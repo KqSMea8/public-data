{
 "cells": [
  {
   "cell_type": "code",
   "execution_count": 1,
   "metadata": {},
   "outputs": [],
   "source": [
    "import pickle\n",
    "import collections\n",
    "import numpy as np\n",
    "import tensorflow as tf\n",
    "import tensorflow.contrib.keras as kr"
   ]
  },
  {
   "cell_type": "code",
   "execution_count": 2,
   "metadata": {},
   "outputs": [
    {
     "name": "stdout",
     "output_type": "stream",
     "text": [
      "['利', '用', 't', 'e', 'n', 's', 'o', 'r', 'f', 'l', 'o', 'w', '框', '架', '实', '现', 'C', 'N', 'N', '中', '文', '文', '本', '分', '类', ' ', '-', ' ', 'G', 'i', 't', 'H', 'u', 'b']\n"
     ]
    }
   ],
   "source": [
    "# 1.对句子中的汉字、标点符号拆分\n",
    "# 对于文本分类问题，是否采用中文切词对分类结果会产生多大影响？ \n",
    "# 特别是垃圾信息识别中，类似这样：f*ck, 草~泥~马这样的内容，对中文进行分词似乎更不好用 \n",
    "def cn_token(str_text):\n",
    "    \"对句子中的汉字、标点符号拆分\"\n",
    "    return [token for token in str_text]\n",
    "\n",
    "print(cn_token(\"利用tensorflow框架实现CNN中文文本分类 - GitHub\"))"
   ]
  },
  {
   "cell_type": "code",
   "execution_count": 3,
   "metadata": {},
   "outputs": [
    {
     "name": "stdout",
     "output_type": "stream",
     "text": [
      "['<PAD>', '叙', '利', '亚', '东', '政', '府', '军', '和', '俄', '罗', '斯', '方', '面', '2', '0', '日', '对', '首', '都', '大', '马', '士', '革', '郊', '古', '塔', '地', '区', '发', '动', '空', '袭', '导', '致', '平', '民', '伤', '亡', '一', '所', '医', '院', '停', '止', '运', '转']\n",
      "['<PAD>', '叙', '利', '亚', '东', '政', '府', '军', '和', '俄', '罗', '斯', '方', '面', '2', '0', '日', '对', '首', '都', '大', '马', '士', '革', '郊', '古', '塔', '地', '区', '发', '动', '空', '袭', '导', '致', '平', '民', '伤', '亡', '一', '所', '医', '院', '停', '止', '运', '转']\n"
     ]
    }
   ],
   "source": [
    "# 2.构建词汇表\n",
    "# https://github.com/alicelmx/Chinese-classification\n",
    "def build_vocab(text_list,vocab_size=100):\n",
    "    \"是否有更高级一点的，现成的构建词表函数或工具？\"\n",
    "    all_tokens = [] \n",
    "    for text in text_list: #样本量非常巨大的情况？\n",
    "        all_tokens.extend(cn_token(text)) \n",
    "        \n",
    "    counter =  collections.Counter()\n",
    "    for text in text_list:\n",
    "        counter.update(cn_token(text))\n",
    "    \n",
    "    t1 = collections.Counter(all_tokens)\n",
    "    count_pairs = t1.most_common(vocab_size-1) \n",
    "    # print(count_pairs)\n",
    "    # print(list(zip(*count_pairs)))\n",
    "    words, _ = list(zip(*count_pairs)) \n",
    "    # 添加一个 <PAD> 来将所有文本pad为同一长度\n",
    "    words = ['<PAD>'] + list(words)\n",
    "    \n",
    "    #2种方式存入磁盘持久化\n",
    "    with open('./tmp/nlp_1_vocab.txt','w') as f:\n",
    "        f.write('\\n'.join(words) + '\\n') \n",
    "    with open('./tmp/nlp_1_vocab.pickle','wb') as f: \n",
    "        pickle.dump(words,f)\n",
    "    \n",
    "    return words\n",
    "\n",
    "def build_vocab_4(text_list,vocab_size=100):\n",
    "    \"是否有更高级一点的，现成的构建词表函数或工具？\" \n",
    "    counter =  collections.Counter()\n",
    "    for text in text_list:\n",
    "        counter.update(cn_token(text))\n",
    "    \n",
    "    count_pairs = counter.most_common(vocab_size-1)  \n",
    "    words, _ = list(zip(*count_pairs))  \n",
    "    words = ['<PAD>'] + list(words) \n",
    "    \n",
    "    return words \n",
    "\n",
    "def build_vocab_1(text_list):\n",
    "    vocabulary = []\n",
    "    for text in text_list:\n",
    "        tokens = cn_token(text)\n",
    "        for t in tokens:\n",
    "            #token,doc_count,token_count?\n",
    "            if t not in vocabulary:\n",
    "                vocabulary.append(t) \n",
    "    return vocabulary \n",
    "\n",
    "def build_vocab_2(text_list):\n",
    "    \"\"\"统计：字符，在多少个文档中出现，总计出现多少次\"\"\"\n",
    "    d_token = {}\n",
    "    for text in text_list:\n",
    "        tokens = cn_token(text)\n",
    "        has_doc = False\n",
    "        for t in tokens:\n",
    "            #token,doc_count,token_count?\n",
    "            if t not in d_token:\n",
    "                d_token[t] = {'doc_count':1,'token_count':1}\n",
    "                has_doc = True\n",
    "            else:\n",
    "                tmp = d_token[t] \n",
    "                tmp['token_count'] = tmp['token_count'] + 1\n",
    "                if not has_doc:\n",
    "                    tmp['doc_count'] = tmp['doc_count'] + 1  #有问题，？\n",
    "                    has_doc = True \n",
    "                d_token[t] = tmp \n",
    "    return d_token \n",
    "\n",
    "def build_vocab_3(text_list):\n",
    "    vocabulary = []\n",
    "    for text in text_list:\n",
    "        tokens = cn_token(text)\n",
    "        for t in tokens:\n",
    "            #token,doc_count,token_count?\n",
    "            if t not in [v[0] for v in vocabulary]:\n",
    "                vocabulary.append([t,1,1]) \n",
    "            else:\n",
    "                index = [v[0] for v in vocabulary].index(t)\n",
    "                tmp = vocabulary[index]\n",
    "                vocabulary[index] = [tmp[0],tmp[1]+1,tmp[2]+1]  #有问题，？ \n",
    "    return vocabulary \n",
    "\n",
    "\n",
    "x_text = ['叙利亚叙政府军和俄罗斯方面20日','对叙利亚首都大马士革东郊东古塔地区发动空袭','导致平民伤亡', '一所医院停止运转']\n",
    "# print(build_vocab_3(x_text))\n",
    "# print(build_vocab_2(x_text))\n",
    "print(build_vocab(x_text))\n",
    "print(build_vocab_4(x_text))"
   ]
  },
  {
   "cell_type": "code",
   "execution_count": 4,
   "metadata": {},
   "outputs": [
    {
     "name": "stdout",
     "output_type": "stream",
     "text": [
      "(4,)\n",
      "max_doc_len:21\n",
      "[[ 1  2  3  1  5  6  7  8  9 10 11 12 13 14 15 16  0  0  0  0  0  0]\n",
      " [17  1  2  3 18 19 20 21 22 23  4 24  4 25 26 27 28 29 30 31 32  0]\n",
      " [33 34 35 36 37 38  0  0  0  0  0  0  0  0  0  0  0  0  0  0  0  0]\n",
      " [39 40 41 42 43 44 45 46  0  0  0  0  0  0  0  0  0  0  0  0  0  0]]\n",
      "~~~\n",
      "[[ 1  2  3  1  4  5  6  7  8  9 10 11 12 13 14 15  0  0  0  0  0  0]\n",
      " [16  1  2  3 17 18 19 20 21 22 23 24 23 25 26 27 28 29 30 31 32  0]\n",
      " [33 34 35 36 37 38  0  0  0  0  0  0  0  0  0  0  0  0  0  0  0  0]\n",
      " [39 40 41 42 43 44 45 46  0  0  0  0  0  0  0  0  0  0  0  0  0  0]]\n"
     ]
    }
   ],
   "source": [
    "# 3.用词向量表示训练数据\n",
    "def process_file_1(text_list, max_length=21):\n",
    "    \"\"\"将文件转换为id表示\"\"\" \n",
    "    words = build_vocab(text_list) \n",
    "    \n",
    "    data_id = []\n",
    "    for tokens in [cn_token(t) for t in text_list]:\n",
    "        l = [] \n",
    "        for i,t in enumerate(tokens):\n",
    "            index = words.index(t)\n",
    "            l.append( index )\n",
    "        data_id.append(l)\n",
    "    \n",
    "    # 使用keras提供的pad_sequences来将文本pad为固定长度\n",
    "    x_pad = kr.preprocessing.sequence.pad_sequences(data_id, max_length) \n",
    "     \n",
    "    return x_pad\n",
    "\n",
    "def process_file(text_list, max_length=25):\n",
    "    \"\"\"将文件转换为id表示\"\"\"  \n",
    "    words = build_vocab(text_list) \n",
    "    word_to_id = dict(zip(words, range(len(words)))) \n",
    "\n",
    "    data_id = []\n",
    "    contents = [cn_token(txt) for txt in text_list]\n",
    "    for i in range(len(contents)):\n",
    "        data_id.append([word_to_id[x] for x in contents[i] if x in word_to_id]) \n",
    "    \n",
    "    x = np.array(data_id)\n",
    "    print(x.shape)\n",
    "    \n",
    "    print(\"max_doc_len:\" + str(max([len(cn_token(txt)) for txt in text_list]) ))\n",
    "\n",
    "    # 使用keras提供的pad_sequences来将文本pad为固定长度\n",
    "    # why use this ?\n",
    "    # pad_sequences(sequences, maxlen=None, dtype='int32',\n",
    "    # padding='pre', truncating='pre', value=0.)\n",
    "    x_pad = kr.preprocessing.sequence.pad_sequences(data_id, max_length,padding='post') \n",
    "#     print(x_pad)\n",
    "    return x_pad \n",
    "\n",
    "def process_file_2(x_text,max_document_length=25): \n",
    "    #VocabularyProcessor (max_document_length, min_frequency=0, vocabulary=None, tokenizer_fn=None)\n",
    "    # max_document_length: 文档的最大长度。如果文本的长度大于最大长度，那么它会被剪切，反之则用0填充。 \n",
    "    # min_frequency: 词频的最小值，出现次数小于最小词频则不会被收录到词表中。 \n",
    "    # vocabulary: CategoricalVocabulary 对象。 \n",
    "    # tokenizer_fn：分词函数\n",
    "\n",
    "    vocab_pro = tf.contrib.learn.preprocessing.VocabularyProcessor(max_document_length,\n",
    "                                                                   min_frequency=0, \n",
    "                                                                   tokenizer_fn=cn_token) \n",
    "    x = np.array(list(vocab_pro.fit_transform(x_text)))\n",
    "    # print(x.shape)\n",
    "\n",
    "    embedding_size = len([x for x in vocab_pro.fit_transform(x_text)])\n",
    "    return x \n",
    "\n",
    "x_text = ['叙利亚叙政府军和俄罗斯方面20日','对叙利亚首都大马士革东郊东古塔地区发动空袭','导致平民伤亡', '一所医院停止运转']\n",
    "\n",
    "# print(code(build_vocab(x_text),x_text))\n",
    "# print(process_file_1(x_text))\n",
    "# print(process_file(x_text))\n",
    "max_document_length=22\n",
    "print(process_file(x_text,max_document_length))\n",
    "print('~~~')\n",
    "labels = process_file_2(x_text,max_document_length)\n",
    "print(labels)\n",
    "\n",
    "# one-hot ?\n",
    "# targets = tf.one_hot(labels, max_document_length, on_value=1.0, off_value=0.0, axis=-1)\n",
    "# with tf.Session() as sess:\n",
    "#     print(sess.run(targets))\n",
    "    \n",
    "#为啥编号会有不一样的地方？按cout排序时，如果count一致，可能会出现随机排列"
   ]
  },
  {
   "cell_type": "code",
   "execution_count": 5,
   "metadata": {},
   "outputs": [
    {
     "name": "stdout",
     "output_type": "stream",
     "text": [
      "[[ 1  2  3  1  4  5  6  7  8  9 10 11 12 13 14 15  0  0  0  0  0  0]\n",
      " [16  1  2  3 17 18 19 20 21 22 23 24 23 25 26 27 28 29 30 31 32  0]\n",
      " [33 34 35 36 37 38  0  0  0  0  0  0  0  0  0  0  0  0  0  0  0  0]\n",
      " [39 40 41 42 43 44 45 46  0  0  0  0  0  0  0  0  0  0  0  0  0  0]]\n"
     ]
    }
   ],
   "source": [
    "# 声明词嵌入矩阵。将句子单词转成索引，再将索引转成one-hot向量，该向量为单位矩阵。\n",
    "# 再使用该矩阵为每个单词查找系数向量，并加入到词系数向量\n",
    "\n",
    "# embedding_lookup(params, \n",
    "# ids, \n",
    "# partition_strategy='mod', \n",
    "# name=None, \n",
    "# validate_indices=True, \n",
    "# max_norm=None)\n",
    "# 按照ids顺序返回params中的第ids行。\n",
    "# 比如说，ids=[1,3,2],就是返回params中第1,3,2行。返回结果为由params的1,3,2行组成的tensor.\n",
    "x_embed = tf.nn.embedding_lookup(labels,[0,1,2,3])\n",
    "\n",
    "#InvalidArgumentError: indices[0,4] = 4 is not in [0, 4)\n",
    "\n",
    "sess = tf.Session()\n",
    "sess.run(tf.global_variables_initializer())\n",
    "print(sess.run(x_embed)) \n",
    "\n",
    "# x_col_sums = tf.reduce_sum(x_embed, 0) #为啥要求和？\n"
   ]
  },
  {
   "cell_type": "code",
   "execution_count": 6,
   "metadata": {},
   "outputs": [
    {
     "name": "stdout",
     "output_type": "stream",
     "text": [
      "[[0, 1, 1, 1, 0, 1, 1, 1, 1, 1, 1, 1, 1, 1, 1, 1, 1, 0, 0, 0, 0, 0, 0, 0, 0, 0, 0, 0, 0, 0, 0, 0, 0, 0, 0, 0, 0, 0, 0, 0, 0, 0, 0, 0, 0, 0, 0], [0, 1, 1, 1, 1, 0, 0, 0, 0, 0, 0, 0, 0, 0, 0, 0, 0, 1, 1, 1, 1, 1, 1, 1, 1, 1, 1, 1, 1, 1, 1, 1, 1, 0, 0, 0, 0, 0, 0, 0, 0, 0, 0, 0, 0, 0, 0], [0, 0, 0, 0, 0, 0, 0, 0, 0, 0, 0, 0, 0, 0, 0, 0, 0, 0, 0, 0, 0, 0, 0, 0, 0, 0, 0, 0, 0, 0, 0, 0, 0, 1, 1, 1, 1, 1, 1, 0, 0, 0, 0, 0, 0, 0, 0], [0, 0, 0, 0, 0, 0, 0, 0, 0, 0, 0, 0, 0, 0, 0, 0, 0, 0, 0, 0, 0, 0, 0, 0, 0, 0, 0, 0, 0, 0, 0, 0, 0, 0, 0, 0, 0, 0, 0, 1, 1, 1, 1, 1, 1, 1, 1]]\n"
     ]
    }
   ],
   "source": [
    "# 4.one-hot？\n",
    "def one_hot(text_list):\n",
    "    text_dict = build_vocab(text_list) \n",
    "    \n",
    "    vocabulary = []\n",
    "    for text in text_list:\n",
    "        l = []\n",
    "        tokens = cn_token(text) \n",
    "        for i,t in enumerate(text_dict):\n",
    "            l.append(1 if t in tokens else 0) \n",
    "        vocabulary.append(l)\n",
    "        \n",
    "    return vocabulary\n",
    "\n",
    "print(one_hot(x_text))"
   ]
  },
  {
   "cell_type": "code",
   "execution_count": null,
   "metadata": {},
   "outputs": [],
   "source": []
  }
 ],
 "metadata": {
  "kernelspec": {
   "display_name": "Python 3",
   "language": "python",
   "name": "python3"
  },
  "language_info": {
   "codemirror_mode": {
    "name": "ipython",
    "version": 3
   },
   "file_extension": ".py",
   "mimetype": "text/x-python",
   "name": "python",
   "nbconvert_exporter": "python",
   "pygments_lexer": "ipython3",
   "version": "3.6.2"
  }
 },
 "nbformat": 4,
 "nbformat_minor": 2
}

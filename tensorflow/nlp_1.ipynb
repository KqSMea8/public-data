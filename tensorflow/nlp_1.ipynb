{
 "cells": [
  {
   "cell_type": "code",
   "execution_count": 1,
   "metadata": {},
   "outputs": [],
   "source": [
    "import pickle\n",
    "import collections\n",
    "import numpy as np\n",
    "import tensorflow as tf\n",
    "import tensorflow.contrib.keras as kr"
   ]
  },
  {
   "cell_type": "code",
   "execution_count": 2,
   "metadata": {},
   "outputs": [],
   "source": [
    "# 1.对句子中的汉字、标点符号拆分\n",
    "# 对于文本分类问题，是否采用中文切词对分类结果会产生多大影响？ \n",
    "# 特别是垃圾信息识别中，类似这样：f*ck, 草~泥~马这样的内容，对中文进行分词似乎更不好用 \n",
    "def cn_token(str_text):\n",
    "    \"对句子中的汉字、标点符号拆分\"\n",
    "    return [token for token in str_text]\n",
    "\n",
    "# print(cn_token(\"叙利亚政府军和俄罗斯方面20日对叙利亚首都大马士革东郊东古塔地区发动空袭，导致平民伤亡，一所医院停止运转。test\"))"
   ]
  },
  {
   "cell_type": "code",
   "execution_count": 3,
   "metadata": {},
   "outputs": [],
   "source": [
    "# 2.构建词汇表\n",
    "# https://github.com/alicelmx/Chinese-classification\n",
    "def build_vocab(text_list,vocab_size=100):\n",
    "    \"是否有更高级一点的，现成的构建词表函数或工具？\"\n",
    "    all_tokens = []\n",
    "    for text in text_list: #样本量非常大的情况？\n",
    "        all_tokens.extend(cn_token(text)) \n",
    "    \n",
    "    t1 = collections.Counter(all_tokens)\n",
    "    count_pairs = t1.most_common(vocab_size) \n",
    "    # print(count_pairs)\n",
    "    # print(list(zip(*count_pairs)))\n",
    "    words, _ = list(zip(*count_pairs)) \n",
    "    # 添加一个 <PAD> 来将所有文本pad为同一长度\n",
    "    words = ['<PAD>'] + list(words)\n",
    "    \n",
    "    #2种方式存入磁盘持久化\n",
    "    with open('./tmp/nlp_1_vocab.txt','w') as f:\n",
    "        f.write('\\n'.join(words) + '\\n') \n",
    "    with open('./tmp/nlp_1_vocab.pickle','wb') as f: \n",
    "        pickle.dump(words,f)\n",
    "    \n",
    "    return words\n",
    "\n",
    "def build_vocab_1(text_list):\n",
    "    d_token = {}\n",
    "    for text in text_list:\n",
    "        tokens = cn_token(text)\n",
    "        for t in tokens:\n",
    "            #token,doc_count,token_count?\n",
    "            if t not in d_token:\n",
    "                d_token[t] = {'doc_count':1,'token_count':1}\n",
    "            else:\n",
    "                tmp = d_token[t] \n",
    "                tmp['token_count'] = tmp['token_count'] + 1\n",
    "                tmp['doc_count'] = tmp['doc_count'] + 1  #?\n",
    "                d_token[t] = tmp \n",
    "    return d_token \n",
    "\n",
    "def build_vocab_2(text_list):\n",
    "    vocabulary = []\n",
    "    for text in text_list:\n",
    "        tokens = cn_token(text)\n",
    "        for t in tokens:\n",
    "            #token,doc_count,token_count?\n",
    "            if t not in [v[0] for v in vocabulary]:\n",
    "                vocabulary.append([t,1,1]) \n",
    "            else:\n",
    "                index = [v[0] for v in vocabulary].index(t)\n",
    "                tmp = vocabulary[index]\n",
    "                vocabulary[index] = [tmp[0],tmp[1]+1,tmp[2]+1]  \n",
    "    return vocabulary \n",
    "\n",
    "def build_vocab_3(text_list):\n",
    "    vocabulary = []\n",
    "    for text in text_list:\n",
    "        tokens = cn_token(text)\n",
    "        for t in tokens:\n",
    "            #token,doc_count,token_count?\n",
    "            if t not in vocabulary:\n",
    "                vocabulary.append(t) \n",
    "    return vocabulary \n",
    "\n",
    "\n",
    "x_text = ['叙利亚叙政府军和俄罗斯方面20日','对叙利亚首都大马士革东郊东古塔地区发动空袭','导致平民伤亡', '一所医院停止运转']\n",
    "# print(gen_dict_1(x_text))\n",
    "# print(gen_dict_2(x_text))\n",
    "# print(build_vocab(x_text))"
   ]
  },
  {
   "cell_type": "code",
   "execution_count": 4,
   "metadata": {},
   "outputs": [
    {
     "name": "stdout",
     "output_type": "stream",
     "text": [
      "[[ 0  0  0  0  0  1  2  3  1  5  6  7  8  9 10 11 12 13 14 15 16]\n",
      " [17  1  2  3 18 19 20 21 22 23  4 24  4 25 26 27 28 29 30 31 32]\n",
      " [ 0  0  0  0  0  0  0  0  0  0  0  0  0  0  0 33 34 35 36 37 38]\n",
      " [ 0  0  0  0  0  0  0  0  0  0  0  0  0 39 40 41 42 43 44 45 46]]\n"
     ]
    }
   ],
   "source": [
    "# 3.用词向量表示训练数据\n",
    "def process_file_1(text_list, max_length=21):\n",
    "    \"\"\"将文件转换为id表示\"\"\" \n",
    "    words = build_vocab(text_list) \n",
    "    \n",
    "    data_id = []\n",
    "    for tokens in [cn_token(t) for t in text_list]:\n",
    "        l = [] \n",
    "        for i,t in enumerate(tokens):\n",
    "            index = words.index(t)\n",
    "            l.append( index )\n",
    "        data_id.append(l)\n",
    "    \n",
    "    # 使用keras提供的pad_sequences来将文本pad为固定长度\n",
    "    x_pad = kr.preprocessing.sequence.pad_sequences(data_id, max_length) \n",
    "     \n",
    "    return x_pad\n",
    "\n",
    "def process_file(text_list, max_length=21):\n",
    "    \"\"\"将文件转换为id表示\"\"\"  \n",
    "    words = build_vocab(text_list) \n",
    "    word_to_id = dict(zip(words, range(len(words)))) \n",
    "\n",
    "    data_id = []\n",
    "    contents = [cn_token(txt) for txt in text_list]\n",
    "    for i in range(len(contents)):\n",
    "        data_id.append([word_to_id[x] for x in contents[i] if x in word_to_id]) \n",
    "\n",
    "    # 使用keras提供的pad_sequences来将文本pad为固定长度\n",
    "    # why use this ?\n",
    "    x_pad = kr.preprocessing.sequence.pad_sequences(data_id, max_length) \n",
    "\n",
    "    return x_pad \n",
    "\n",
    "# print(code(build_vocab(x_text),x_text))\n",
    "# print(process_file_1(x_text))\n",
    "print(process_file(x_text))\n",
    "# process_file_x(x_text)"
   ]
  },
  {
   "cell_type": "code",
   "execution_count": 5,
   "metadata": {},
   "outputs": [
    {
     "name": "stdout",
     "output_type": "stream",
     "text": [
      "[[0, 1, 1, 1, 0, 1, 1, 1, 1, 1, 1, 1, 1, 1, 1, 1, 1, 0, 0, 0, 0, 0, 0, 0, 0, 0, 0, 0, 0, 0, 0, 0, 0, 0, 0, 0, 0, 0, 0, 0, 0, 0, 0, 0, 0, 0, 0], [0, 1, 1, 1, 1, 0, 0, 0, 0, 0, 0, 0, 0, 0, 0, 0, 0, 1, 1, 1, 1, 1, 1, 1, 1, 1, 1, 1, 1, 1, 1, 1, 1, 0, 0, 0, 0, 0, 0, 0, 0, 0, 0, 0, 0, 0, 0], [0, 0, 0, 0, 0, 0, 0, 0, 0, 0, 0, 0, 0, 0, 0, 0, 0, 0, 0, 0, 0, 0, 0, 0, 0, 0, 0, 0, 0, 0, 0, 0, 0, 1, 1, 1, 1, 1, 1, 0, 0, 0, 0, 0, 0, 0, 0], [0, 0, 0, 0, 0, 0, 0, 0, 0, 0, 0, 0, 0, 0, 0, 0, 0, 0, 0, 0, 0, 0, 0, 0, 0, 0, 0, 0, 0, 0, 0, 0, 0, 0, 0, 0, 0, 0, 0, 1, 1, 1, 1, 1, 1, 1, 1]]\n"
     ]
    }
   ],
   "source": [
    "# 4.one-hot\n",
    "def one_hot(text_list):\n",
    "    text_dict = build_vocab(text_list) \n",
    "    \n",
    "    vocabulary = []\n",
    "    for text in text_list:\n",
    "        l = []\n",
    "        tokens = cn_token(text) \n",
    "        for i,t in enumerate(text_dict):\n",
    "            l.append(1 if t in tokens else 0) \n",
    "        vocabulary.append(l)\n",
    "        \n",
    "    return vocabulary\n",
    "\n",
    "print(one_hot(x_text))"
   ]
  },
  {
   "cell_type": "code",
   "execution_count": null,
   "metadata": {},
   "outputs": [],
   "source": []
  }
 ],
 "metadata": {
  "kernelspec": {
   "display_name": "Python 3",
   "language": "python",
   "name": "python3"
  },
  "language_info": {
   "codemirror_mode": {
    "name": "ipython",
    "version": 3
   },
   "file_extension": ".py",
   "mimetype": "text/x-python",
   "name": "python",
   "nbconvert_exporter": "python",
   "pygments_lexer": "ipython3",
   "version": "3.6.2"
  }
 },
 "nbformat": 4,
 "nbformat_minor": 2
}

{
 "cells": [
  {
   "cell_type": "code",
   "execution_count": 8,
   "metadata": {},
   "outputs": [],
   "source": [
    "# https://github.com/nfmcclure/tensorflow_cookbook/blob/master/09_Recurrent_Neural_Networks/02_Implementing_RNN_for_Spam_Prediction/02_implementing_rnn.py\n",
    "# http://tobiaslee.top/2017/08/07/Text-Classification%E4%BB%A3%E7%A0%81%E5%AD%A6%E4%B9%A0%E7%AC%94%E8%AE%B0/\n",
    "import os\n",
    "import re\n",
    "import io\n",
    "import requests\n",
    "import numpy as np\n",
    "import matplotlib.pyplot as plt\n",
    "import tensorflow as tf\n",
    "from zipfile import ZipFile\n",
    "from tensorflow.python.framework import ops\n",
    "ops.reset_default_graph()"
   ]
  },
  {
   "cell_type": "code",
   "execution_count": 9,
   "metadata": {},
   "outputs": [],
   "source": [
    "# Create a text cleaning function\n",
    "def clean_text(text_string):\n",
    "    text_string = re.sub(r'([^\\s\\w]|_|[0-9])+', '', text_string)\n",
    "    text_string = \" \".join(text_string.split())\n",
    "    text_string = text_string.lower()\n",
    "    return(text_string)\n",
    "\n",
    "#inputs\n",
    "def load_data():\n",
    "    # Download or open data\n",
    "    data_dir = 'data'\n",
    "    data_file = 'text_data.txt'\n",
    "    if not os.path.exists(data_dir):\n",
    "        os.makedirs(data_dir)\n",
    "\n",
    "    if not os.path.isfile(os.path.join(data_dir, data_file)):\n",
    "        zip_url = 'http://archive.ics.uci.edu/ml/machine-learning-databases/00228/smsspamcollection.zip'\n",
    "        r = requests.get(zip_url)\n",
    "        z = ZipFile(io.BytesIO(r.content))\n",
    "        file = z.read('SMSSpamCollection')\n",
    "        # Format Data\n",
    "        text_data = file.decode()\n",
    "        text_data = text_data.encode('ascii',errors='ignore')\n",
    "        text_data = text_data.decode().split('\\n')\n",
    "\n",
    "        # Save data to text file\n",
    "        with open(os.path.join(data_dir, data_file), 'w') as file_conn:\n",
    "            for text in text_data:\n",
    "                file_conn.write(\"{}\\n\".format(text))\n",
    "    else:\n",
    "        # Open data from text file\n",
    "        text_data = []\n",
    "        with open(os.path.join(data_dir, data_file), 'r') as file_conn:\n",
    "            for row in file_conn:\n",
    "                text_data.append(row)\n",
    "        text_data = text_data[:-1]\n",
    "\n",
    "    text_data = [x.split('\\t') for x in text_data if len(x)>=1]\n",
    "    return [list(x) for x in zip(*text_data)] \n",
    "\n",
    "\n",
    "def inputs():\n",
    "    [text_data_target, text_data_train] = load_data()\n",
    "    # Clean texts\n",
    "    text_data_train = [clean_text(x) for x in text_data_train] \n",
    "    return [text_data_target, text_data_train]\n"
   ]
  },
  {
   "cell_type": "code",
   "execution_count": 10,
   "metadata": {},
   "outputs": [],
   "source": [
    "#参数\n",
    "max_sequence_length = 25 #短信最大长度，超出的截取，不够的填充0\n",
    "min_word_frequency = 10 #？tf-idf ?\n",
    "embedding_size = 50 #每个单词会嵌套在长度为50的 词向量 中\n",
    "\n",
    "# Set RNN parameters\n",
    "rnn_size = 10  #RNN模型有10个单元？\n",
    "learning_rate = 0.0005\n",
    "dropout_keep_prob = tf.placeholder(tf.float32)\n",
    "\n",
    "epochs = 20 #迭代次数\n",
    "batch_size = 250 #一次送入多少条？"
   ]
  },
  {
   "cell_type": "code",
   "execution_count": 11,
   "metadata": {},
   "outputs": [],
   "source": [
    "[text_data_target, text_data_train] = inputs() \n",
    "\n",
    "# Change texts into numeric vectors\n",
    "# 构建词汇表\n",
    "# X\n",
    "vocab_processor = tf.contrib.learn.preprocessing.VocabularyProcessor(max_sequence_length,\n",
    "                                                                     min_frequency=min_word_frequency)\n",
    "text_processed = np.array(list(vocab_processor.fit_transform(text_data_train)))\n",
    "text_processed = np.array(text_processed)\n",
    "\n",
    "# Y\n",
    "text_data_target = np.array([1 if x=='ham' else 0 for x in text_data_target])"
   ]
  },
  {
   "cell_type": "code",
   "execution_count": 12,
   "metadata": {},
   "outputs": [
    {
     "name": "stdout",
     "output_type": "stream",
     "text": [
      "Vocabulary Size: 933\n",
      "80-20 Train Test split: 4459 -- 1115\n"
     ]
    }
   ],
   "source": [
    "# Shuffle and split data\n",
    "shuffled_ix = np.random.permutation(np.arange(len(text_data_target)))\n",
    "x_shuffled = text_processed[shuffled_ix]\n",
    "y_shuffled = text_data_target[shuffled_ix]\n",
    "\n",
    "# Split train/test set\n",
    "ix_cutoff = int(len(y_shuffled)*0.80)\n",
    "x_train, x_test = x_shuffled[:ix_cutoff], x_shuffled[ix_cutoff:]\n",
    "y_train, y_test = y_shuffled[:ix_cutoff], y_shuffled[ix_cutoff:]\n",
    "vocab_size = len(vocab_processor.vocabulary_)\n",
    "print(\"Vocabulary Size: {:d}\".format(vocab_size))\n",
    "print(\"80-20 Train Test split: {:d} -- {:d}\".format(len(y_train), len(y_test))) \n"
   ]
  },
  {
   "cell_type": "code",
   "execution_count": 13,
   "metadata": {},
   "outputs": [
    {
     "name": "stderr",
     "output_type": "stream",
     "text": [
      "/Users/baidu/Documents/tensorflow/lib/python3.6/site-packages/tensorflow/python/ops/gradients_impl.py:97: UserWarning: Converting sparse IndexedSlices to a dense Tensor of unknown shape. This may consume a large amount of memory.\n",
      "  \"Converting sparse IndexedSlices to a dense Tensor of unknown shape. \"\n"
     ]
    }
   ],
   "source": [
    "# Create placeholders\n",
    "x_data = tf.placeholder(tf.int32, [None, max_sequence_length])\n",
    "y_output = tf.placeholder(tf.int32, [None])\n",
    "\n",
    "# Create embedding one-hot 词向量\n",
    "# https://www.jianshu.com/p/677e71364c8e\n",
    "# 参考 nlp_embedding_lookup.ipynb\n",
    "embedding_mat = tf.Variable(tf.random_uniform([vocab_size, embedding_size], -1.0, 1.0))\n",
    "embedding_output = tf.nn.embedding_lookup(embedding_mat, x_data)\n",
    "# embedding_output_expanded = tf.expand_dims(embedding_output, -1) ?\n",
    "\n",
    "# 定义推断模型\n",
    "# Define the RNN cell\n",
    "#tensorflow change >= 1.0, rnn is put into tensorflow.contrib directory. Prior version not test.\n",
    "# cell = tf.nn.rnn_cell.BasicRNNCell(num_units = rnn_size) ver<1.0\n",
    "cell=tf.contrib.rnn.BasicRNNCell(num_units = rnn_size) \n",
    "\n",
    "output, state = tf.nn.dynamic_rnn(cell, embedding_output, dtype=tf.float32)\n",
    "output = tf.nn.dropout(output, dropout_keep_prob)\n",
    "\n",
    "# Get output of RNN sequence\n",
    "output = tf.transpose(output, [1, 0, 2])\n",
    "last = tf.gather(output, int(output.get_shape()[0]) - 1)\n",
    "\n",
    "weight = tf.Variable(tf.truncated_normal([rnn_size, 2], stddev=0.1))\n",
    "bias = tf.Variable(tf.constant(0.1, shape=[2]))\n",
    "logits_out = tf.matmul(last, weight) + bias\n",
    "\n",
    "#定义损失函数\n",
    "losses = tf.nn.sparse_softmax_cross_entropy_with_logits(logits=logits_out, labels=y_output) # logits=float32, labels=int32\n",
    "loss = tf.reduce_mean(losses)\n",
    "\n",
    "#根据损失调整参数\n",
    "optimizer = tf.train.RMSPropOptimizer(learning_rate)\n",
    "train_step = optimizer.minimize(loss)\n",
    "\n",
    "#评估准确度\n",
    "accuracy = tf.reduce_mean(tf.cast(tf.equal(tf.argmax(logits_out, 1), tf.cast(y_output, tf.int64)), tf.float32))\n",
    "\n"
   ]
  },
  {
   "cell_type": "code",
   "execution_count": 14,
   "metadata": {},
   "outputs": [
    {
     "name": "stdout",
     "output_type": "stream",
     "text": [
      "Epoch: 1, Test Loss: 0.61, Test Acc: 0.83\n",
      "Epoch: 2, Test Loss: 0.58, Test Acc: 0.83\n",
      "Epoch: 3, Test Loss: 0.55, Test Acc: 0.83\n",
      "Epoch: 4, Test Loss: 0.52, Test Acc: 0.83\n",
      "Epoch: 5, Test Loss: 0.49, Test Acc: 0.83\n",
      "Epoch: 6, Test Loss: 0.46, Test Acc: 0.83\n",
      "Epoch: 7, Test Loss: 0.44, Test Acc: 0.83\n",
      "Epoch: 8, Test Loss: 0.43, Test Acc: 0.84\n",
      "Epoch: 9, Test Loss: 0.42, Test Acc: 0.84\n",
      "Epoch: 10, Test Loss: 0.41, Test Acc: 0.84\n",
      "Epoch: 11, Test Loss: 0.41, Test Acc: 0.84\n",
      "Epoch: 12, Test Loss: 0.41, Test Acc: 0.85\n",
      "Epoch: 13, Test Loss: 0.4, Test Acc: 0.85\n",
      "Epoch: 14, Test Loss: 0.4, Test Acc: 0.85\n",
      "Epoch: 15, Test Loss: 0.4, Test Acc: 0.86\n",
      "Epoch: 16, Test Loss: 0.4, Test Acc: 0.86\n",
      "Epoch: 17, Test Loss: 0.4, Test Acc: 0.86\n",
      "Epoch: 18, Test Loss: 0.39, Test Acc: 0.86\n",
      "Epoch: 19, Test Loss: 0.39, Test Acc: 0.86\n",
      "Epoch: 20, Test Loss: 0.39, Test Acc: 0.86\n"
     ]
    }
   ],
   "source": [
    "sess = tf.Session()\n",
    "init = tf.global_variables_initializer()\n",
    "sess.run(init)\n",
    "\n",
    "train_loss = []\n",
    "test_loss = []\n",
    "train_accuracy = []\n",
    "test_accuracy = []\n",
    "# Start training\n",
    "for epoch in range(epochs): \n",
    "    # Shuffle training data\n",
    "    shuffled_ix = np.random.permutation(np.arange(len(x_train)))\n",
    "    x_train = x_train[shuffled_ix]\n",
    "    y_train = y_train[shuffled_ix]\n",
    "    num_batches = int(len(x_train)/batch_size) + 1\n",
    "    # TO DO CALCULATE GENERATIONS ExACTLY\n",
    "    for i in range(num_batches):\n",
    "        # Select train data\n",
    "        min_ix = i * batch_size\n",
    "        max_ix = np.min([len(x_train), ((i+1) * batch_size)])\n",
    "        x_train_batch = x_train[min_ix:max_ix]\n",
    "        y_train_batch = y_train[min_ix:max_ix]\n",
    "        \n",
    "        # Run train step\n",
    "        train_dict = {x_data: x_train_batch, y_output: y_train_batch, dropout_keep_prob:0.5}\n",
    "        sess.run(train_step, feed_dict=train_dict)\n",
    "        \n",
    "    # Run loss and accuracy for training\n",
    "    temp_train_loss, temp_train_acc = sess.run([loss, accuracy], feed_dict=train_dict)\n",
    "    train_loss.append(temp_train_loss)\n",
    "    train_accuracy.append(temp_train_acc)\n",
    "    \n",
    "    # Run Eval Step\n",
    "    test_dict = {x_data: x_test, y_output: y_test, dropout_keep_prob:1.0}\n",
    "    temp_test_loss, temp_test_acc = sess.run([loss, accuracy], feed_dict=test_dict)\n",
    "    test_loss.append(temp_test_loss)\n",
    "    test_accuracy.append(temp_test_acc)\n",
    "    print('Epoch: {}, Test Loss: {:.2}, Test Acc: {:.2}'.format(epoch+1, temp_test_loss, temp_test_acc)) "
   ]
  },
  {
   "cell_type": "code",
   "execution_count": 13,
   "metadata": {},
   "outputs": [
    {
     "data": {
      "image/png": "[encoded data removed]",
      "text/plain": [
       "<matplotlib.figure.Figure at 0x10962e208>"
      ]
     },
     "metadata": {},
     "output_type": "display_data"
    },
    {
     "data": {
      "image/png": "[encoded data removed]",
      "text/plain": [
       "<matplotlib.figure.Figure at 0x117a1ccf8>"
      ]
     },
     "metadata": {},
     "output_type": "display_data"
    }
   ],
   "source": [
    "# Plot loss over time\n",
    "epoch_seq = np.arange(1, epochs+1)\n",
    "plt.plot(epoch_seq, train_loss, 'k--', label='Train Set')\n",
    "plt.plot(epoch_seq, test_loss, 'r-', label='Test Set')\n",
    "plt.title('Softmax Loss')\n",
    "plt.xlabel('Epochs')\n",
    "plt.ylabel('Softmax Loss')\n",
    "plt.legend(loc='upper left')\n",
    "plt.show()\n",
    "\n",
    "# Plot accuracy over time\n",
    "plt.plot(epoch_seq, train_accuracy, 'k--', label='Train Set')\n",
    "plt.plot(epoch_seq, test_accuracy, 'r-', label='Test Set')\n",
    "plt.title('Test Accuracy')\n",
    "plt.xlabel('Epochs')\n",
    "plt.ylabel('Accuracy')\n",
    "plt.legend(loc='upper left')\n",
    "plt.show()"
   ]
  },
  {
   "cell_type": "code",
   "execution_count": null,
   "metadata": {},
   "outputs": [],
   "source": []
  }
 ],
 "metadata": {
  "kernelspec": {
   "display_name": "Python 3",
   "language": "python",
   "name": "python3"
  },
  "language_info": {
   "codemirror_mode": {
    "name": "ipython",
    "version": 3
   },
   "file_extension": ".py",
   "mimetype": "text/x-python",
   "name": "python",
   "nbconvert_exporter": "python",
   "pygments_lexer": "ipython3",
   "version": "3.6.2"
  }
 },
 "nbformat": 4,
 "nbformat_minor": 2
}

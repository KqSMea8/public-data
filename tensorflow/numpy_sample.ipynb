{
 "cells": [
  {
   "cell_type": "code",
   "execution_count": 2,
   "metadata": {},
   "outputs": [],
   "source": [
    "# https://www.jianshu.com/p/109f8d9da77a\n",
    "import numpy as np"
   ]
  },
  {
   "cell_type": "code",
   "execution_count": 3,
   "metadata": {},
   "outputs": [
    {
     "name": "stdout",
     "output_type": "stream",
     "text": [
      "[[[1. 1. 1.]\n",
      "  [1. 1. 1.]]]\n"
     ]
    }
   ],
   "source": [
    "#数组声明&生成\n",
    "#https://www.cnblogs.com/fortran/archive/2010/09/01/1814773.html\n",
    "    \n",
    "# np.float32 3\n",
    "# np.int32 1\n",
    "# np.uint8 1\n",
    "\n",
    "x = np.ones((1, 2, 3))\n",
    "print(x)\n",
    "\n",
    "#np.array 186\n",
    "#np.ones 3\n",
    "#np.ones_like 3\n",
    "#np.zeros 19\n",
    "#np.zeros_like 1\n",
    "\n",
    "#np.round 30\n",
    "# np.arange 9\n",
    "\n",
    "# np.nan_to_num 16\n",
    "# np.repeat 10\n",
    "# np.linspace 14\n",
    "\n",
    "#np.load 1\n",
    "#np.save 1\n"
   ]
  },
  {
   "cell_type": "code",
   "execution_count": null,
   "metadata": {},
   "outputs": [],
   "source": [
    "#随机数\n",
    "np.random.normal 21\n",
    "np.random.randn 1\n",
    "np.random.rand 2\n",
    "np.random.randint 1\n",
    "\n",
    "np.random.uniform 4\n",
    "\n",
    "np.random.permutation 7\n",
    "np.random.shuffle 2\n",
    "\n",
    "np.random.choice 108\n",
    "np.random.seed 24\n"
   ]
  },
  {
   "cell_type": "code",
   "execution_count": 3,
   "metadata": {},
   "outputs": [],
   "source": [
    "#数组变换\n",
    "#np.transpose #117 矩阵转置 \n",
    "np.argmax #18 最大元素的index\n",
    "np.roll 9\n",
    "np.meshgrid 8\n",
    "np.concatenate 8\n",
    "np.reshape 7\n",
    "np.expand_dims 6\n",
    "np.sort 4\n",
    "np.resize 4\n",
    "np.hstack 4\n",
    "np.column_stack 4\n",
    "np.array_split 4\n",
    "np.squeeze 3\n",
    "np.setdiff1d 2\n",
    "np.ndenumerate 2\n",
    "np.isnan 1\n",
    "np.c_ 7 \n",
    "      "
   ]
  },
  {
   "cell_type": "code",
   "execution_count": 5,
   "metadata": {},
   "outputs": [
    {
     "data": {
      "text/plain": [
       "array([6, 8], dtype=int32)"
      ]
     },
     "execution_count": 5,
     "metadata": {},
     "output_type": "execute_result"
    }
   ],
   "source": [
    "#数学运算\n",
    "np.abs 1\n",
    "np.sin 1\n",
    "np.log 1\n",
    "np.min 2\n",
    "np.mean 15\n",
    "np.sqrt 10\n",
    "np.sum 7\n",
    "np.exp 1\n",
    "np.ceil 6\n",
    "np.matmul 3"
   ]
  },
  {
   "cell_type": "code",
   "execution_count": null,
   "metadata": {},
   "outputs": [],
   "source": []
  }
 ],
 "metadata": {
  "kernelspec": {
   "display_name": "Python 3",
   "language": "python",
   "name": "python3"
  },
  "language_info": {
   "codemirror_mode": {
    "name": "ipython",
    "version": 3
   },
   "file_extension": ".py",
   "mimetype": "text/x-python",
   "name": "python",
   "nbconvert_exporter": "python",
   "pygments_lexer": "ipython3",
   "version": "3.6.2"
  }
 },
 "nbformat": 4,
 "nbformat_minor": 2
}

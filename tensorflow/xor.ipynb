{
 "cells": [
  {
   "cell_type": "code",
   "execution_count": null,
   "metadata": {},
   "outputs": [],
   "source": [
    "#xor异或, 2个输入中有一个为1但不全为1，结果是1，其他情况0。线性不可分\n",
    "# http://kakack.github.io/2017/06/TensorFlow%E8%A7%A3%E5%86%B3XOR%E9%97%AE%E9%A2%98/\n",
    "# https://aimatters.wordpress.com/2016/01/16/solving-xor-with-a-neural-network-in-tensorflow/\n",
    "# https://martin-thoma.com/tf-xor-tutorial/ \n",
    "# http://blog.csdn.net/u011026968/article/details/72084273\n",
    "# https://github.com/StephenOman/TensorFlowExamples/blob/master/xor%20nn/xor_nn.py  \n",
    "# https://gist.github.com/pannous/2b8e2e05cf05a630b132\n",
    "# https://github.com/techdisrupt/XOR/blob/master/xor.py\n",
    "import tensorflow as tf"
   ]
  },
  {
   "cell_type": "code",
   "execution_count": null,
   "metadata": {},
   "outputs": [],
   "source": [
    "def inputs():\n",
    "    \"\"\"输入\"\"\"\n",
    "    XOR_X = [[0,0],[0,1],[1,0],[1,1]]\n",
    "    XOR_Y = [[0],[1],[1],[0]]\n",
    "    return XOR_X,XOR_Y"
   ]
  },
  {
   "cell_type": "code",
   "execution_count": null,
   "metadata": {},
   "outputs": [],
   "source": [
    "def inference(X):\n",
    "    \"\"\"推断模型\"\"\"\n",
    "    pass\n",
    "\n",
    "def loss(X,Y):\n",
    "    \"\"\"损失函数\"\"\"\n",
    "    pass \n",
    "#     return tf.reduce_mean(( (Y* tf.log(Hypothesis)) + ((1 - y_) * tf.log(1.0 - Hypothesis)) ) * -1)\n",
    "\n",
    "def train(total_loss):\n",
    "    \"\"\"依据 计算的总损失 训练或调整 模型参数\"\"\"\n",
    "    learning_rate = 0.01\n",
    "    return tf.train.GradientDescentOptimizer(learning_rate).minimize(total_loss)\n",
    "\n",
    "def evaluate(sess,X,Y):\n",
    "    pass\n",
    "\n"
   ]
  },
  {
   "cell_type": "code",
   "execution_count": null,
   "metadata": {},
   "outputs": [],
   "source": [
    "with tf.Session() as sess:\n",
    "    tf.global_variables_initializer().run()\n",
    "    \n",
    "    X, Y = inputs() \n",
    "    total_loss = loss(X, Y)\n",
    "    train_op = train(total_loss)\n",
    "    \n",
    "    coord = tf.train.Coordinator() #??\n",
    "    threads = tf.train.start_queue_runners(sess=sess, coord=coord) #?\n",
    "    \n",
    "    training_steps = 1000\n",
    "    for step in range(training_steps):\n",
    "        sess.run([train_op])\n",
    "        # for debugging and learning purposes, see how the loss gets decremented thru training steps\n",
    "        if step % 10 == 0: \n",
    "            print(\"step:%s, loss:%s \" %(step, sess.run([total_loss]))) \n",
    "            \n",
    "\n",
    "    evaluate(sess, X, Y)\n",
    "    print(\"step:%s, W:%s, b:%s,loss:%s \" %(step,sess.run(W),sess.run(b), sess.run([total_loss])))\n",
    "    \n",
    "    coord.request_stop()\n",
    "    coord.join(threads)"
   ]
  }
 ],
 "metadata": {
  "kernelspec": {
   "display_name": "Python 3",
   "language": "python",
   "name": "python3"
  },
  "language_info": {
   "codemirror_mode": {
    "name": "ipython",
    "version": 3
   },
   "file_extension": ".py",
   "mimetype": "text/x-python",
   "name": "python",
   "nbconvert_exporter": "python",
   "pygments_lexer": "ipython3",
   "version": "3.6.2"
  }
 },
 "nbformat": 4,
 "nbformat_minor": 2
}

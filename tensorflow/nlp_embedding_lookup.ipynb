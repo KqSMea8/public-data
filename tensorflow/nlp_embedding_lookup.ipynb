{
 "cells": [
  {
   "cell_type": "code",
   "execution_count": 8,
   "metadata": {},
   "outputs": [
    {
     "name": "stdout",
     "output_type": "stream",
     "text": [
      "embedding:\n",
      "[[1 0 0 0 0 0]\n",
      " [0 1 0 0 0 0]\n",
      " [0 0 1 0 0 0]\n",
      " [0 0 0 1 0 0]\n",
      " [0 0 0 0 1 0]\n",
      " [0 0 0 0 0 1]]\n",
      "input_embedding:\n",
      "[[0 0 0 0 1 0]\n",
      " [1 0 0 0 0 0]\n",
      " [0 0 1 0 0 0]\n",
      " [0 0 0 0 1 0]\n",
      " [0 0 0 0 0 1]\n",
      " [0 1 0 0 0 0]\n",
      " [0 0 0 1 0 0]\n",
      " [1 0 0 0 0 0]]\n"
     ]
    }
   ],
   "source": [
    "#https://www.jianshu.com/p/677e71364c8e\n",
    "import numpy as np\n",
    "import tensorflow as tf\n",
    "\n",
    "input_ids = tf.placeholder(dtype=tf.int32, shape=[None])\n",
    "\n",
    "# embedding将变量表现成了one-hot形式，\n",
    "# 而embedding_lookup() 就是把input_ids中给出的tensor表现成embedding中的形式。\n",
    "\n",
    "embedding = tf.Variable(np.identity(6, dtype=np.int32))\n",
    "input_embedding = tf.nn.embedding_lookup(embedding, input_ids)\n",
    "\n",
    "sess = tf.Session()  \n",
    "sess.run(tf.global_variables_initializer())\n",
    "\n",
    "print(\"embedding:\")\n",
    "print(sess.run(embedding))\n",
    "\n",
    "print(\"input_embedding:\")\n",
    "print(sess.run(input_embedding, feed_dict={input_ids: [4, 0, 2, 4, 5, 1, 3, 0]}))"
   ]
  },
  {
   "cell_type": "code",
   "execution_count": null,
   "metadata": {},
   "outputs": [],
   "source": []
  }
 ],
 "metadata": {
  "kernelspec": {
   "display_name": "Python 3",
   "language": "python",
   "name": "python3"
  },
  "language_info": {
   "codemirror_mode": {
    "name": "ipython",
    "version": 3
   },
   "file_extension": ".py",
   "mimetype": "text/x-python",
   "name": "python",
   "nbconvert_exporter": "python",
   "pygments_lexer": "ipython3",
   "version": "3.6.2"
  }
 },
 "nbformat": 4,
 "nbformat_minor": 2
}

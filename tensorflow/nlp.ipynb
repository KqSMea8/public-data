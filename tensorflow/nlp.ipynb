{
 "cells": [
  {
   "cell_type": "code",
   "execution_count": 2,
   "metadata": {},
   "outputs": [],
   "source": [
    "# one-hot encoding， \n",
    "# Bag-of-words model，词袋模型\n",
    "# tf-idf\n",
    "## https://deeplearning4j.org/cn/bagofwords-tf-idf\n",
    "# skip-gram\n",
    "# cbow\n",
    "# word2vec\n",
    "# doc2vec\n",
    "\n",
    "# https://github.com/backstopmedia/tensorflowbook/tree/master/chapters/\n",
    "# 06_recurrent_neural_networks_and_natural_language_processing/01_wikipedia\n",
    "# https://github.com/nfmcclure/tensorflow_cookbook/tree/master/07_Natural_Language_Processing \n",
    "import numpy as np\n",
    "import tensorflow as tf"
   ]
  },
  {
   "cell_type": "code",
   "execution_count": 3,
   "metadata": {},
   "outputs": [],
   "source": [
    "sess = tf.Session()"
   ]
  },
  {
   "cell_type": "code",
   "execution_count": 4,
   "metadata": {},
   "outputs": [
    {
     "name": "stdout",
     "output_type": "stream",
     "text": [
      "[[0. 0. 0.]\n",
      " [1. 0. 0.]\n",
      " [0. 1. 0.]\n",
      " [0. 0. 1.]]\n"
     ]
    }
   ],
   "source": [
    "# one-hot encoding \n",
    "# http://blog.csdn.net/loseinvain/article/details/78819390\n",
    "\n",
    "# one_hot参数：\n",
    "# indices, allowed values: uint8, int32, int64\n",
    "# depth, 编码深度？\n",
    "# on_value=None, default is 1\n",
    "# off_value=None, default is 0\n",
    "# axis=None,  编码的轴?\n",
    "# dtype=None,\n",
    "# name=None\n",
    "\n",
    "var = tf.one_hot(indices=[1, 2, 3], depth=4, axis=0)\n",
    "print(sess.run(var)) \n",
    "\n",
    "#indices, allowed values: uint8, int32, int64 \n",
    "# var = tf.one_hot(indices=['a', 'b', 'c'], depth=4, axis=0) #error "
   ]
  },
  {
   "cell_type": "code",
   "execution_count": 14,
   "metadata": {},
   "outputs": [
    {
     "name": "stdout",
     "output_type": "stream",
     "text": [
      "[[1 2 3 4 0 0 0 0]\n",
      " [1 5 6 7 0 0 0 0]\n",
      " [1 2 3 3 8 0 0 0]] 3\n"
     ]
    }
   ],
   "source": [
    "# VocabularyProcessor 词汇处理,把文档映射成词汇的索引序列\n",
    "x_text = ['This is a cat','This must be boy', 'This is a a dog']\n",
    "vocab_pro = tf.contrib.learn.preprocessing.VocabularyProcessor(8) \n",
    "# print([x for x in vocab_pro.transform(x_text)])\n",
    "x = np.array(list(vocab_pro.fit_transform(x_text)))\n",
    "\n",
    "embedding_size = len([x for x in vocab_pro.fit_transform(x_text)])\n",
    "print(x,embedding_size)"
   ]
  },
  {
   "cell_type": "code",
   "execution_count": 24,
   "metadata": {},
   "outputs": [
    {
     "data": {
      "text/plain": [
       "array([0., 0., 1.], dtype=float32)"
      ]
     },
     "execution_count": 24,
     "metadata": {},
     "output_type": "execute_result"
    }
   ],
   "source": [
    "# https://github.com/nfmcclure/tensorflow_cookbook/blob/master/07_Natural_Language_Processing/\n",
    "# 02_Working_with_Bag_of_Words/02_bag_of_words.py\n",
    "identity_mat = tf.diag(tf.ones(shape=[embedding_size]))\n",
    "# Text-Vocab Embedding\n",
    "x_embed = tf.nn.embedding_lookup(identity_mat, 2) #embedding_size-1 ？\n",
    "x_col_sums = tf.reduce_sum(x_embed, 0)\n",
    "# sess.run(identity_mat)\n",
    "sess.run(x_embed)\n",
    "# sess.run(x_col_sums)\n"
   ]
  },
  {
   "cell_type": "code",
   "execution_count": null,
   "metadata": {},
   "outputs": [],
   "source": [
    "# Bag-of-Words，BoW，词袋模型\n",
    "# http://tobiaslee.top/2017/08/07/Text-Classification%E4%BB%A3%E7%A0%81%E5%AD%A6%E4%B9%A0%E7%AC%94%E8%AE%B0/\n",
    "# https://github.com/tensorflow/tensorflow/blob/master/tensorflow/examples/learn/text_classification.py\n",
    "def bag_of_words_model(features, labels, mode):\n",
    "  \"\"\"A bag-of-words model. Note it disregards the word order in the text.\"\"\"\n",
    "  bow_column = tf.feature_column.categorical_column_with_identity(\n",
    "      WORDS_FEATURE, num_buckets=n_words)\n",
    "  bow_embedding_column = tf.feature_column.embedding_column(\n",
    "      bow_column, dimension=EMBEDDING_SIZE)\n",
    "  bow = tf.feature_column.input_layer(\n",
    "      features, feature_columns=[bow_embedding_column])\n",
    "  logits = tf.layers.dense(bow, MAX_LABEL, activation=None)\n",
    "\n",
    "  return estimator_spec_for_softmax_classification(\n",
    "      logits=logits, labels=labels, mode=mode)\n"
   ]
  },
  {
   "cell_type": "code",
   "execution_count": 5,
   "metadata": {},
   "outputs": [],
   "source": [
    "# TF-IDF"
   ]
  },
  {
   "cell_type": "code",
   "execution_count": null,
   "metadata": {},
   "outputs": [],
   "source": [
    "# Skip-Gram\n",
    "#http://www.tensorfly.cn/tfdoc/tutorials/word2vec.html"
   ]
  },
  {
   "cell_type": "code",
   "execution_count": null,
   "metadata": {},
   "outputs": [],
   "source": [
    "# CBOW"
   ]
  }
 ],
 "metadata": {
  "kernelspec": {
   "display_name": "Python 3",
   "language": "python",
   "name": "python3"
  },
  "language_info": {
   "codemirror_mode": {
    "name": "ipython",
    "version": 3
   },
   "file_extension": ".py",
   "mimetype": "text/x-python",
   "name": "python",
   "nbconvert_exporter": "python",
   "pygments_lexer": "ipython3",
   "version": "3.6.2"
  }
 },
 "nbformat": 4,
 "nbformat_minor": 2
}

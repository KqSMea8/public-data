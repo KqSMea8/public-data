{
 "cells": [
  {
   "cell_type": "code",
   "execution_count": 1,
   "metadata": {},
   "outputs": [],
   "source": [
    "import tensorflow as tf\n",
    "import numpy as np"
   ]
  },
  {
   "cell_type": "code",
   "execution_count": 2,
   "metadata": {},
   "outputs": [],
   "source": [
    "sess = tf.Session()"
   ]
  },
  {
   "cell_type": "code",
   "execution_count": 3,
   "metadata": {},
   "outputs": [
    {
     "data": {
      "text/plain": [
       "array([  0, 255,   0], dtype=int32)"
      ]
     },
     "execution_count": 3,
     "metadata": {},
     "output_type": "execute_result"
    }
   ],
   "source": [
    "# https://github.com/backstopmedia/tensorflowbook/blob/master/chapters/05_object_recognition_and_classification/\n",
    "# Chapter%205%20-%2001%20Overview.ipynb\n",
    "\n",
    "image_batch = tf.constant([\n",
    "        [  # First Image\n",
    "            [[0, 255, 0], [0, 255, 0], [0, 255, 0]],\n",
    "            [[0, 255, 0], [0, 255, 0], [0, 255, 0]]\n",
    "        ],\n",
    "        [  # Second Image\n",
    "            [[0, 0, 255], [0, 0, 255], [0, 0, 255]],\n",
    "            [[0, 0, 255], [0, 0, 255], [0, 0, 255]]\n",
    "        ]\n",
    "    ])\n",
    "image_batch.get_shape()\n",
    "\n",
    "sess.run(image_batch)[0][0][0]"
   ]
  },
  {
   "cell_type": "code",
   "execution_count": 5,
   "metadata": {},
   "outputs": [
    {
     "data": {
      "text/plain": [
       "array([[[[ 0.,  0.],\n",
       "         [ 1.,  2.]],\n",
       "\n",
       "        [[ 2.,  4.],\n",
       "         [ 3.,  6.]]],\n",
       "\n",
       "\n",
       "       [[[ 2.,  4.],\n",
       "         [ 4.,  8.]],\n",
       "\n",
       "        [[ 6., 12.],\n",
       "         [ 8., 16.]]]], dtype=float32)"
      ]
     },
     "execution_count": 5,
     "metadata": {},
     "output_type": "execute_result"
    }
   ],
   "source": [
    "#https://github.com/backstopmedia/tensorflowbook/blob/master/chapters/05_object_recognition_and_classification/\n",
    "#Chapter%205%20-%2002%20Convolutions.ipynb\n",
    "\n",
    "input_batch = tf.constant([\n",
    "        [  # First Input\n",
    "            [[0.0], [1.0]],\n",
    "            [[2.0], [3.0]]\n",
    "        ],\n",
    "        [  # Second Input\n",
    "            [[2.0], [4.0]],\n",
    "            [[6.0], [8.0]]\n",
    "        ]\n",
    "    ])\n",
    "\n",
    "#卷积核\n",
    "kernel = tf.constant([\n",
    "        [\n",
    "            [[1.0, 2.0]]\n",
    "        ]\n",
    "    ])\n",
    "\n",
    "# strides 卷积核的跨度\n",
    "# padding\n",
    "conv2d = tf.nn.conv2d(input_batch, kernel, strides=[1, 1, 1, 1], padding='SAME')\n",
    "sess.run(conv2d)\n",
    "\n",
    "#秩、维度"
   ]
  },
  {
   "cell_type": "code",
   "execution_count": 6,
   "metadata": {},
   "outputs": [
    {
     "data": {
      "text/plain": [
       "(array([3.], dtype=float32), array([3., 6.], dtype=float32))"
      ]
     },
     "execution_count": 6,
     "metadata": {},
     "output_type": "execute_result"
    }
   ],
   "source": [
    "lower_right_image_pixel = sess.run(input_batch)[0][1][1]\n",
    "lower_right_kernel_pixel = sess.run(conv2d)[0][1][1]\n",
    "\n",
    "lower_right_image_pixel, lower_right_kernel_pixel"
   ]
  },
  {
   "cell_type": "code",
   "execution_count": 7,
   "metadata": {},
   "outputs": [
    {
     "data": {
      "text/plain": [
       "array([[[[2.2],\n",
       "         [8.2]],\n",
       "\n",
       "        [[2.8],\n",
       "         [8.8]]]], dtype=float32)"
      ]
     },
     "execution_count": 7,
     "metadata": {},
     "output_type": "execute_result"
    }
   ],
   "source": [
    "input_batch = tf.constant([\n",
    "        [  # First Input (6x6x1)\n",
    "            [[0.0], [1.0], [2.0], [3.0], [4.0], [5.0]],\n",
    "            [[0.1], [1.1], [2.1], [3.1], [4.1], [5.1]],\n",
    "            [[0.2], [1.2], [2.2], [3.2], [4.2], [5.2]],\n",
    "            [[0.3], [1.3], [2.3], [3.3], [4.3], [5.3]],\n",
    "            [[0.4], [1.4], [2.4], [3.4], [4.4], [5.4]],\n",
    "            [[0.5], [1.5], [2.5], [3.5], [4.5], [5.5]],\n",
    "        ],\n",
    "    ])\n",
    "\n",
    "kernel = tf.constant([  # Kernel (3x3x1)\n",
    "        [[[0.0]], [[0.5]], [[0.0]]],\n",
    "        [[[0.0]], [[1.0]], [[0.0]]],\n",
    "        [[[0.0]], [[0.5]], [[0.0]]]\n",
    "    ])\n",
    "\n",
    "# NOTE: the change in the size of the strides parameter.\n",
    "# strides格式和输入向量相同，batch_size,height,width,channel, batch_size和channel一般不修改\n",
    "# padding边界填充 same输出与输入尺寸相同，vaild卷积核尽量不越过图像边界，某些情况边界会被填充\n",
    "# data_format N,H,W,C\n",
    "conv2d = tf.nn.conv2d(input_batch, kernel, strides=[1, 3, 3, 1], padding='SAME')\n",
    "sess.run(conv2d)"
   ]
  },
  {
   "cell_type": "code",
   "execution_count": null,
   "metadata": {},
   "outputs": [],
   "source": []
  }
 ],
 "metadata": {
  "kernelspec": {
   "display_name": "Python 3",
   "language": "python",
   "name": "python3"
  },
  "language_info": {
   "codemirror_mode": {
    "name": "ipython",
    "version": 3
   },
   "file_extension": ".py",
   "mimetype": "text/x-python",
   "name": "python",
   "nbconvert_exporter": "python",
   "pygments_lexer": "ipython3",
   "version": "3.6.2"
  }
 },
 "nbformat": 4,
 "nbformat_minor": 2
}

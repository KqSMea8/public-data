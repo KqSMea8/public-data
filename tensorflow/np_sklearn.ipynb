{
 "cells": [
  {
   "cell_type": "code",
   "execution_count": 154,
   "metadata": {},
   "outputs": [],
   "source": [
    "from sklearn.feature_extraction.text import TfidfVectorizer\n",
    "from sklearn.feature_extraction.text import CountVectorizer\n",
    "from sklearn.feature_extraction.text import TfidfTransformer  \n",
    "import nltk "
   ]
  },
  {
   "cell_type": "code",
   "execution_count": 177,
   "metadata": {},
   "outputs": [
    {
     "name": "stdout",
     "output_type": "stream",
     "text": [
      "['boy', 'busy', 'city', 'first', 'girl', 'hate', 'love']\n",
      "[[1 0 1 1 0 1 0]\n",
      " [0 0 0 1 1 0 1]\n",
      " [0 1 1 1 0 0 0]]\n",
      "TfidfTransformer(norm='l2', smooth_idf=True, sublinear_tf=False, use_idf=True)\n",
      "[[0.5844829  0.         0.44451431 0.34520502 0.         0.5844829\n",
      "  0.        ]\n",
      " [0.         0.         0.         0.38537163 0.65249088 0.\n",
      "  0.65249088]\n",
      " [0.         0.72033345 0.54783215 0.42544054 0.         0.\n",
      "  0.        ]]\n"
     ]
    }
   ],
   "source": [
    "#https://zhangzirui.github.io/posts/Document-14%20(sklearn-feature).md\n",
    "\n",
    "# texts=['I love you china ok','I love china','you can better china']\n",
    "\n",
    "texts=['a b c','b e','c d']\n",
    "texts=['city boy hate first','girl love first','city busy first']\n",
    "\n",
    "\n",
    "#将文本中的词语转换为词频矩阵  \n",
    "vectorizer = CountVectorizer()  \n",
    "#计算个词语出现的次数  \n",
    "X = vectorizer.fit_transform(texts)  \n",
    "#获取词袋中所有文本关键词  \n",
    "word = vectorizer.get_feature_names()  \n",
    "print(word)  \n",
    "#查看词频结果   \n",
    "print(X.toarray())  \n",
    "\n",
    "\n",
    "#假如一篇文件的总词语数是100个，而词语“母牛”出现了3次，那么“母牛”一词在该文件中的词频tf就是3/100=0.03。\n",
    "#而计算文件频率（IDF）的方法是以文件集的文件总数，除以出现“母牛”一词的文件数。\n",
    "#所以，如果“母牛”一词在1,000份文件出现过，而文件总数是10,000,000份的话，\n",
    "#其逆向文件频率idf就是lg（10,000,000 / 1,000）=4。\n",
    "#最后的tf-idf的分数为0.03 * 4=0.12。\n",
    "\n",
    "\n",
    "#类调用  \n",
    "transformer = TfidfTransformer()  \n",
    "print(transformer)  \n",
    "#将词频矩阵X统计成TF-IDF值  \n",
    "tfidf = transformer.fit_transform(X)  \n",
    "#查看数据结构 tfidf[i][j]表示i类文本中的tf-idf权重  \n",
    "print(tfidf.toarray())  \n",
    "\n"
   ]
  },
  {
   "cell_type": "code",
   "execution_count": 181,
   "metadata": {},
   "outputs": [
    {
     "name": "stdout",
     "output_type": "stream",
     "text": [
      "[array(['boy', 'busy', 'city', 'first', 'girl', 'hate', 'love'],\n",
      "      dtype='<U5')]\n",
      "[[0.5844829  0.         0.44451431 0.34520502 0.         0.5844829\n",
      "  0.        ]\n",
      " [0.         0.         0.         0.38537163 0.65249088 0.\n",
      "  0.65249088]\n",
      " [0.         0.72033345 0.54783215 0.42544054 0.         0.\n",
      "  0.        ]]\n"
     ]
    }
   ],
   "source": [
    "texts=['city boy hate first','girl love first','city busy first']\n",
    "\n",
    "max_features = 1000\n",
    "# stop_words='english', \n",
    "tfidf = TfidfVectorizer(tokenizer=nltk.word_tokenize, max_features=max_features)\n",
    "sparse_tfidf_texts = tfidf.fit_transform(texts)\n",
    "\n",
    "\n",
    "print(tfidf.inverse_transform([1,2,3,4,5,6,7]))\n",
    "print(sparse_tfidf_texts.toarray()    )\n",
    "\n",
    "\n",
    "# print(sparse_tfidf_texts.shape) \n",
    "# #没搞懂为啥是这个输出？\n",
    "# print(\"txt1:\",sparse_tfidf_texts[0]) \n",
    "# print(\"txt2:\",sparse_tfidf_texts[1]) \n",
    "# print(\"txt3:\",sparse_tfidf_texts[2]) \n",
    "\n",
    "# print(\"sparse_tfidf_texts:\\n\",sparse_tfidf_texts) \n",
    "\n",
    "# [[0.         0.42544054 0.54783215 0.72033345]\n",
    "#  [0.         0.61335554 0.78980693 0.        ]\n",
    "#  [0.861037   0.50854232 0.         0.        ]]"
   ]
  },
  {
   "cell_type": "code",
   "execution_count": null,
   "metadata": {},
   "outputs": [],
   "source": []
  }
 ],
 "metadata": {
  "kernelspec": {
   "display_name": "Python 3",
   "language": "python",
   "name": "python3"
  },
  "language_info": {
   "codemirror_mode": {
    "name": "ipython",
    "version": 3
   },
   "file_extension": ".py",
   "mimetype": "text/x-python",
   "name": "python",
   "nbconvert_exporter": "python",
   "pygments_lexer": "ipython3",
   "version": "3.6.2"
  }
 },
 "nbformat": 4,
 "nbformat_minor": 2
}

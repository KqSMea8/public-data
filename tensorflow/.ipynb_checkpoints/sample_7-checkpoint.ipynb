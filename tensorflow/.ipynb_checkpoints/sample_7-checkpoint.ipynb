{
 "cells": [
  {
   "cell_type": "code",
   "execution_count": 13,
   "metadata": {},
   "outputs": [],
   "source": [
    "import tensorflow as tf"
   ]
  },
  {
   "cell_type": "code",
   "execution_count": 14,
   "metadata": {},
   "outputs": [],
   "source": [
    "my_var = tf.Variable(3,name=\"my_var\")\n",
    "\n",
    "#tf.zeros(), ones(), \n",
    "#random_normal()正态分布, \n",
    "#random_uniform()均匀分布\n",
    "#truncated_normal"
   ]
  },
  {
   "cell_type": "code",
   "execution_count": 22,
   "metadata": {},
   "outputs": [],
   "source": [
    "add = tf.add(5,my_var)\n",
    "mul = tf.multiply(8,my_var)"
   ]
  },
  {
   "cell_type": "code",
   "execution_count": 25,
   "metadata": {},
   "outputs": [],
   "source": [
    "init = tf.variables_initializer([my_var],name=\"init_my_var\")  #initialize_variables old\n",
    "sess = tf.Session()\n",
    "sess.run(init)\n",
    "\n",
    "#sess.run(mul)\n",
    "\n",
    "#迁移到TensorFlow 1.0版本\n",
    "#https://vimsky.com/article/3622.html"
   ]
  },
  {
   "cell_type": "code",
   "execution_count": null,
   "metadata": {},
   "outputs": [],
   "source": []
  }
 ],
 "metadata": {
  "kernelspec": {
   "display_name": "Python 3",
   "language": "python",
   "name": "python3"
  },
  "language_info": {
   "codemirror_mode": {
    "name": "ipython",
    "version": 3
   },
   "file_extension": ".py",
   "mimetype": "text/x-python",
   "name": "python",
   "nbconvert_exporter": "python",
   "pygments_lexer": "ipython3",
   "version": "3.6.2"
  }
 },
 "nbformat": 4,
 "nbformat_minor": 2
}

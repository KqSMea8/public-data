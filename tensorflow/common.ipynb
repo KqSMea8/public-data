{
 "cells": [
  {
   "cell_type": "code",
   "execution_count": 4,
   "metadata": {},
   "outputs": [],
   "source": [
    "import os\n",
    "import tensorflow as tf"
   ]
  },
  {
   "cell_type": "code",
   "execution_count": 5,
   "metadata": {},
   "outputs": [],
   "source": [
    "def read_csv(batch_size, file_name, record_defaults):\n",
    "    filename_queue = tf.train.string_input_producer([os.path.join(os.getcwd(), file_name)]) \n",
    "\n",
    "    reader = tf.TextLineReader()\n",
    "    key, value = reader.read(filename_queue)\n",
    "\n",
    "    # decode_csv will convert a Tensor from type string (the text line) in\n",
    "    # a tuple of tensor columns with the specified defaults, which also\n",
    "    # sets the data type for each column\n",
    "    decoded = tf.decode_csv(value, record_defaults=record_defaults)\n",
    "\n",
    "    # batch actually reads the file and loads \"batch_size\" rows in a single tensor\n",
    "    return tf.train.shuffle_batch(decoded,\n",
    "                                  batch_size=batch_size,\n",
    "                                  capacity=batch_size * 50,\n",
    "                                  min_after_dequeue=batch_size)"
   ]
  },
  {
   "cell_type": "code",
   "execution_count": 7,
   "metadata": {},
   "outputs": [
    {
     "name": "stdout",
     "output_type": "stream",
     "text": [
      "Tensor(\"shuffle_batch_1:0\", shape=(100,), dtype=float32) Tensor(\"shuffle_batch_1:1\", shape=(100,), dtype=float32) Tensor(\"shuffle_batch_1:2\", shape=(100,), dtype=float32) Tensor(\"shuffle_batch_1:3\", shape=(100,), dtype=float32) Tensor(\"shuffle_batch_1:4\", shape=(100,), dtype=string)\n"
     ]
    }
   ],
   "source": [
    "sepal_length, sepal_width, petal_length, petal_width, label =\\\n",
    "        read_csv(100, \"./data/iris/iris.data\", [[0.0], [0.0], [0.0], [0.0], [\"\"]])\n",
    "print(sepal_length, sepal_width, petal_length, petal_width, label)"
   ]
  },
  {
   "cell_type": "code",
   "execution_count": null,
   "metadata": {},
   "outputs": [],
   "source": []
  }
 ],
 "metadata": {
  "kernelspec": {
   "display_name": "Python 3",
   "language": "python",
   "name": "python3"
  },
  "language_info": {
   "codemirror_mode": {
    "name": "ipython",
    "version": 3
   },
   "file_extension": ".py",
   "mimetype": "text/x-python",
   "name": "python",
   "nbconvert_exporter": "python",
   "pygments_lexer": "ipython3",
   "version": "3.6.2"
  }
 },
 "nbformat": 4,
 "nbformat_minor": 2
}

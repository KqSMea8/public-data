{
 "cells": [
  {
   "cell_type": "code",
   "execution_count": 1,
   "metadata": {},
   "outputs": [],
   "source": [
    "import torch\n",
    "import torch.nn as nn\n",
    "import torch.nn.functional as F"
   ]
  },
  {
   "cell_type": "code",
   "execution_count": 2,
   "metadata": {},
   "outputs": [
    {
     "name": "stdout",
     "output_type": "stream",
     "text": [
      "tensor([[0.0423, 0.4181],\n",
      "        [0.1374, 0.5036],\n",
      "        [0.2681, 0.6213],\n",
      "        [0.9231, 1.2108],\n",
      "        [0.4742, 0.8068],\n",
      "        [0.5968, 0.7771],\n",
      "        [0.1846, 0.4061],\n",
      "        [0.5749, 0.7574],\n",
      "        [0.0463, 0.2816],\n",
      "        [0.9829, 1.1246]])\n",
      "tensor([[1.],\n",
      "        [1.],\n",
      "        [1.],\n",
      "        [1.],\n",
      "        [1.],\n",
      "        [0.],\n",
      "        [0.],\n",
      "        [0.],\n",
      "        [0.],\n",
      "        [0.]])\n"
     ]
    }
   ],
   "source": [
    "#生成测试数据\n",
    "m = 5\n",
    "\n",
    "# y = ax + b\n",
    "a = 0.9\n",
    "b = 0.3\n",
    "\n",
    "x1 = torch.rand(m,1)\n",
    "x2 = torch.rand(m,1)\n",
    "\n",
    "y1 = a*x1 + b + 0.08\n",
    "y2 = a*x2 + b - 0.06\n",
    "\n",
    "features1 = torch.cat([x1,y1],-1)\n",
    "features2 = torch.cat([x2,y2],-1)\n",
    "x = torch.cat([features1,features2],0)\n",
    "\n",
    "labels1 = torch.ones(m,1) \n",
    "labels2 = torch.zeros(m,1) \n",
    "y = torch.cat([labels1,labels2],0) \n",
    "\n",
    "print(x)\n",
    "print(y)\n"
   ]
  },
  {
   "cell_type": "code",
   "execution_count": 7,
   "metadata": {},
   "outputs": [],
   "source": [
    "#定义模型\n",
    "class LogisticRegModel(nn.Module):\n",
    "    def __init__(self):\n",
    "        super(LogisticRegModel,self).__init__()\n",
    "        self.fc = nn.Linear(2,1,bias=True) #参数？\n",
    "#         self.sigmoid = torch.nn.Sigmoid()\n",
    "        \n",
    "    def forward(self,x): \n",
    "#         pred_y = self.sigmoid(self.fc(x))\n",
    "        pred_y = torch.sigmoid(self.fc(x))\n",
    "\n",
    "        return pred_y"
   ]
  },
  {
   "cell_type": "code",
   "execution_count": 8,
   "metadata": {},
   "outputs": [
    {
     "name": "stdout",
     "output_type": "stream",
     "text": [
      "tensor(0.8100, grad_fn=<BinaryCrossEntropyBackward>)\n",
      "tensor(0.4532, grad_fn=<BinaryCrossEntropyBackward>)\n",
      "tensor(0.3234, grad_fn=<BinaryCrossEntropyBackward>)\n",
      "tensor(0.2459, grad_fn=<BinaryCrossEntropyBackward>)\n",
      "tensor(0.1960, grad_fn=<BinaryCrossEntropyBackward>)\n",
      "tensor(0.1618, grad_fn=<BinaryCrossEntropyBackward>)\n",
      "tensor(0.1372, grad_fn=<BinaryCrossEntropyBackward>)\n",
      "tensor(0.1188, grad_fn=<BinaryCrossEntropyBackward>)\n",
      "tensor(0.1045, grad_fn=<BinaryCrossEntropyBackward>)\n",
      "tensor(0.0932, grad_fn=<BinaryCrossEntropyBackward>)\n",
      "tensor(0.0840, grad_fn=<BinaryCrossEntropyBackward>)\n",
      "tensor(0.0764, grad_fn=<BinaryCrossEntropyBackward>)\n",
      "tensor(0.0700, grad_fn=<BinaryCrossEntropyBackward>)\n",
      "tensor(0.0646, grad_fn=<BinaryCrossEntropyBackward>)\n",
      "tensor(0.0599, grad_fn=<BinaryCrossEntropyBackward>)\n",
      "tensor(0.0559, grad_fn=<BinaryCrossEntropyBackward>)\n",
      "tensor(0.0523, grad_fn=<BinaryCrossEntropyBackward>)\n",
      "tensor(0.0492, grad_fn=<BinaryCrossEntropyBackward>)\n",
      "tensor(0.0464, grad_fn=<BinaryCrossEntropyBackward>)\n",
      "tensor(0.0439, grad_fn=<BinaryCrossEntropyBackward>)\n",
      "[Parameter containing:\n",
      "tensor([[-40.7227,  44.9621]], requires_grad=True), Parameter containing:\n",
      "tensor([-13.8179], requires_grad=True)]\n"
     ]
    }
   ],
   "source": [
    "model = LogisticRegModel()\n",
    "loss = torch.nn.BCELoss()\n",
    "optimizer = torch.optim.SGD(model.parameters(),lr=0.1) #\n",
    "\n",
    "# pred_y = model(x)\n",
    "# cost = loss(pred_y,y)\n",
    "# optimizer.zero_grad()\n",
    "# optimizer.step()\n",
    "    \n",
    "for epoch in range(100000):\n",
    "    pred_y = model(x)\n",
    "    cost = loss(pred_y,y)\n",
    "    \n",
    "    optimizer.zero_grad()\n",
    "    cost.backward()\n",
    "    optimizer.step()\n",
    "    \n",
    "    if epoch%5000==1:  #对特征值归一化处理，加快梯度下降的速度\n",
    "        print(cost)\n",
    "\n",
    "print(list(model.parameters()))"
   ]
  },
  {
   "cell_type": "code",
   "execution_count": null,
   "metadata": {},
   "outputs": [],
   "source": []
  }
 ],
 "metadata": {
  "kernelspec": {
   "display_name": "Python 3",
   "language": "python",
   "name": "python3"
  },
  "language_info": {
   "codemirror_mode": {
    "name": "ipython",
    "version": 3
   },
   "file_extension": ".py",
   "mimetype": "text/x-python",
   "name": "python",
   "nbconvert_exporter": "python",
   "pygments_lexer": "ipython3",
   "version": "3.6.5"
  }
 },
 "nbformat": 4,
 "nbformat_minor": 2
}

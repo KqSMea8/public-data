{
 "cells": [
  {
   "cell_type": "code",
   "execution_count": 12,
   "metadata": {},
   "outputs": [],
   "source": [
    "import torch\n",
    "from torch.utils import data\n",
    "import numpy as np\n",
    "\n",
    "from sklearn.datasets import load_iris\n",
    "\n",
    "#pytorch 的data loader 机制，大规模的加载图像、文本、音频等资源\n",
    "# https://pytorch.org/tutorials/beginner/data_loading_tutorial.html\n",
    "# https://stanford.edu/~shervine/blog/pytorch-how-to-generate-data-parallel\n",
    "# parallelizable， 可并行化\n",
    "# https://cloud.tencent.com/developer/article/1090614\n",
    "\n",
    "#https://zhuanlan.zhihu.com/p/30934236\n",
    "\n",
    "# torch.load('') #?\n",
    "\n",
    "# 1. dataset\n",
    "# 2. DataLoader\n",
    "# 3. 迭代器？\n"
   ]
  },
  {
   "cell_type": "code",
   "execution_count": 14,
   "metadata": {},
   "outputs": [],
   "source": [
    "class IrisDataset(data.Dataset):\n",
    "    def __init__(self):\n",
    "        data = load_iris()\n",
    "        self.x = torch.from_numpy(data['data']).float()\n",
    "        self.y = torch.from_numpy(data['target']).long() \n",
    "        \n",
    "    def __getitem__(self,index):\n",
    "        return self.x[index], self.y[index]  #x, y 顺序可调？\n",
    "    \n",
    "    def __len__(self):\n",
    "        return self.y.size()[0] "
   ]
  },
  {
   "cell_type": "code",
   "execution_count": 16,
   "metadata": {},
   "outputs": [
    {
     "name": "stdout",
     "output_type": "stream",
     "text": [
      "(tensor([5.1000, 3.5000, 1.4000, 0.2000]), tensor(0))\n",
      "(tensor([5.1000, 3.5000, 1.4000, 0.2000]), tensor(0))\n",
      "(tensor([5.1000, 3.5000, 1.4000, 0.2000]), tensor(0))\n",
      "(tensor([5.1000, 3.5000, 1.4000, 0.2000]), tensor(0))\n",
      "(tensor([5.1000, 3.5000, 1.4000, 0.2000]), tensor(0))\n"
     ]
    }
   ],
   "source": [
    "iris = IrisDataset()\n",
    "for i in range(5):\n",
    "    print(iris[0])"
   ]
  },
  {
   "cell_type": "code",
   "execution_count": 26,
   "metadata": {},
   "outputs": [
    {
     "name": "stdout",
     "output_type": "stream",
     "text": [
      "0 torch.Size([10, 4]) tensor([1, 0, 1, 0, 1, 1, 2, 1, 1, 2])\n",
      "1 torch.Size([10, 4]) tensor([1, 0, 2, 2, 0, 0, 1, 2, 0, 1])\n",
      "2 torch.Size([10, 4]) tensor([2, 2, 2, 0, 1, 2, 2, 2, 0, 1])\n",
      "3 torch.Size([10, 4]) tensor([0, 2, 1, 0, 2, 1, 2, 2, 0, 1])\n",
      "4 torch.Size([10, 4]) tensor([1, 0, 2, 2, 2, 0, 2, 2, 1, 1])\n",
      "5 torch.Size([10, 4]) tensor([0, 1, 2, 1, 1, 1, 1, 1, 0, 1])\n",
      "6 torch.Size([10, 4]) tensor([0, 2, 0, 2, 2, 1, 0, 0, 0, 1])\n",
      "7 torch.Size([10, 4]) tensor([2, 2, 1, 1, 1, 2, 1, 0, 0, 0])\n",
      "8 torch.Size([10, 4]) tensor([2, 0, 0, 1, 0, 1, 2, 2, 1, 2])\n",
      "9 torch.Size([10, 4]) tensor([0, 2, 0, 2, 2, 1, 2, 0, 0, 0])\n",
      "10 torch.Size([10, 4]) tensor([2, 2, 1, 0, 1, 2, 0, 0, 1, 0])\n",
      "11 torch.Size([10, 4]) tensor([1, 1, 1, 1, 0, 2, 0, 2, 1, 2])\n",
      "12 torch.Size([10, 4]) tensor([1, 0, 1, 2, 0, 2, 1, 0, 1, 2])\n",
      "13 torch.Size([10, 4]) tensor([1, 0, 0, 2, 2, 1, 0, 2, 0, 2])\n",
      "14 torch.Size([10, 4]) tensor([0, 2, 0, 0, 0, 2, 1, 0, 0, 1])\n"
     ]
    }
   ],
   "source": [
    "dataloader = data.DataLoader(iris)\n",
    "dataloader = data.DataLoader(iris,batch_size=10,shuffle=True,num_workers=2)\n",
    "for i_batch,batch in enumerate(dataloader):\n",
    "    print(i_batch,batch[0].size(),batch[1])"
   ]
  }
 ],
 "metadata": {
  "kernelspec": {
   "display_name": "Python 3",
   "language": "python",
   "name": "python3"
  },
  "language_info": {
   "codemirror_mode": {
    "name": "ipython",
    "version": 3
   },
   "file_extension": ".py",
   "mimetype": "text/x-python",
   "name": "python",
   "nbconvert_exporter": "python",
   "pygments_lexer": "ipython3",
   "version": "3.6.5"
  }
 },
 "nbformat": 4,
 "nbformat_minor": 2
}

{
 "cells": [
  {
   "cell_type": "code",
   "execution_count": 1,
   "metadata": {},
   "outputs": [],
   "source": [
    "import torch\n",
    "import matplotlib.pyplot as plt\n",
    "%matplotlib inline"
   ]
  },
  {
   "cell_type": "markdown",
   "metadata": {},
   "source": [
    "### 1. 生成一批训练数据\n",
    "y = ax + b (不加b，只有一个a的话，损失函数可以用个平面搞出来？)\n",
    "\n",
    "设a=2, b=1, 可以产生一批数据\n",
    "x=1.1, y=3.2\n",
    "x=1.2, y=3.4\n",
    "x=1.3, y=3.7\n",
    "...\n",
    "\n",
    "可以使用for循环生成这批数据，但使用numpy 或 pytorch的广播机制更方便、性能也更好"
   ]
  },
  {
   "cell_type": "code",
   "execution_count": 16,
   "metadata": {},
   "outputs": [
    {
     "name": "stdout",
     "output_type": "stream",
     "text": [
      "tensor([[0.5690],\n",
      "        [0.9634],\n",
      "        [0.0962],\n",
      "        [0.0071],\n",
      "        [0.9956],\n",
      "        [0.4627],\n",
      "        [0.8271],\n",
      "        [0.6023],\n",
      "        [0.2810],\n",
      "        [0.5355]]) torch.Size([10, 1])\n",
      "tensor([[2.1379],\n",
      "        [2.9268],\n",
      "        [1.1924],\n",
      "        [1.0143],\n",
      "        [2.9912],\n",
      "        [1.9255],\n",
      "        [2.6541],\n",
      "        [2.2047],\n",
      "        [1.5620],\n",
      "        [2.0711]]) torch.Size([10, 1])\n"
     ]
    }
   ],
   "source": [
    "m = 10 #样本数量\n",
    "x = torch.rand(m,1)\n",
    "print(x,x.shape)\n",
    "\n",
    "y = x*2 + 1 # y = ax + b\n",
    "print(y,y.shape) #使用pytorch的广播机制更方便、性能也更好"
   ]
  },
  {
   "cell_type": "code",
   "execution_count": 17,
   "metadata": {},
   "outputs": [
    {
     "data": {
      "image/png": "[encoded data removed]",
      "text/plain": [
       "<Figure size 432x288 with 1 Axes>"
      ]
     },
     "metadata": {},
     "output_type": "display_data"
    }
   ],
   "source": [
    "#图像表示？\n",
    "plt.plot(x.view(-1,1).numpy(),y.view(-1,1).numpy())\n",
    "# plt.plot(x.numpy(),y.numpy()) #ValueError: x and y must be the same size\n",
    "plt.scatter(x,y,c = 'r',marker = 'o') \n",
    "plt.show()"
   ]
  },
  {
   "cell_type": "markdown",
   "metadata": {},
   "source": [
    "### 2. 正向传播\n",
    "假设一开始我们并不知道a和b的值是多少，只有很多很多的x,y值，如何从这些数据中确定a和b的值？\n",
    "\n",
    "先假设一个a和b的值，例如设置a=0.1,b=0.2, 根据式子y=ax+b, 可以计算出, 预测的y值是多少，\n",
    "\n",
    "通过比较这个预测的y值和真实的y值差多少，例如一点都不差，a,b的值就对了，如果还有差别，就需要继续调整a,b的值。\n",
    "\n",
    "如何比较，预测值与真实值之间的差距呢，平方误差函数 sum( (y-pre_y)**2  )/m "
   ]
  },
  {
   "cell_type": "code",
   "execution_count": 4,
   "metadata": {},
   "outputs": [
    {
     "name": "stdout",
     "output_type": "stream",
     "text": [
      "tensor([[0.2749],\n",
      "        [0.2999],\n",
      "        [0.2590],\n",
      "        [0.2146],\n",
      "        [0.2927],\n",
      "        [0.2060],\n",
      "        [0.2692],\n",
      "        [0.2859],\n",
      "        [0.2129],\n",
      "        [0.2825]]) torch.Size([10, 1])\n",
      "tensor([[2.2223],\n",
      "        [2.6974],\n",
      "        [1.9212],\n",
      "        [1.0771],\n",
      "        [2.5619],\n",
      "        [0.9138],\n",
      "        [2.1154],\n",
      "        [2.4319],\n",
      "        [1.0454],\n",
      "        [2.3670]])\n",
      "tensor([[4.9388],\n",
      "        [7.2761],\n",
      "        [3.6909],\n",
      "        [1.1601],\n",
      "        [6.5636],\n",
      "        [0.8350],\n",
      "        [4.4748],\n",
      "        [5.9140],\n",
      "        [1.0929],\n",
      "        [5.6025]])\n",
      "tensor(41.5487)\n",
      "tensor(4.1549)\n",
      "tensor(4.1549)\n",
      "tensor(4.1549)\n"
     ]
    }
   ],
   "source": [
    "pre_y = x*0.1 + 0.2\n",
    "print(pre_y,pre_y.size())\n",
    "\n",
    "print ( y-pre_y )\n",
    "print( (y-pre_y)**2 )\n",
    "print( torch.sum((y-pre_y)**2) ) \n",
    "\n",
    "print( torch.sum((y-pre_y)**2)/m ) # sum( (ax+b - y) **2 )/m\n",
    "print( torch.mean((y-pre_y)**2) )   # sum( (ax+b - y) **2 )/m\n",
    "\n",
    "l = torch.nn.functional.mse_loss(y,pre_y) #等价上面2中表示方式\n",
    "print(l)"
   ]
  },
  {
   "cell_type": "code",
   "execution_count": 5,
   "metadata": {},
   "outputs": [
    {
     "name": "stdout",
     "output_type": "stream",
     "text": [
      "tensor(2.4647)\n",
      "tensor(1.0536)\n",
      "tensor(0.0060)\n"
     ]
    }
   ],
   "source": [
    "# 可以手动调整a,b的值，观察当a,b接近真实值时，损失函数接近与0\n",
    "l = torch.nn.functional.mse_loss(y,x*0.8 + 0.2)  \n",
    "print(l)\n",
    "\n",
    "l = torch.nn.functional.mse_loss(y,x*0.9 + 0.7)  \n",
    "print(l)\n",
    "\n",
    "l = torch.nn.functional.mse_loss(y,x*1.9 + 0.99)  \n",
    "print(l)\n"
   ]
  },
  {
   "cell_type": "markdown",
   "metadata": {},
   "source": [
    "### 3. 反向传播\n",
    "如何根据真实值与预估值之间的差距来调整a,b值呢？\n",
    "\n",
    "梯度下降，损失函数的直观图示？\n",
    "\n",
    "对损失函数求导:\n",
    "\n",
    "(ax+b - y) * * 2  （复合函数求导 L= (f(x) -y) ** 2 ）\n",
    "a的偏导: 2(ax + b - y)*x\n",
    "b的偏导: 2(ax+b - y)\n",
    "\n",
    "a:= a - lrate*d(a)\n",
    "b:= b - lrage*d(b)\n",
    "\n",
    "pytorch的反向传播机制？\n"
   ]
  },
  {
   "cell_type": "code",
   "execution_count": 6,
   "metadata": {},
   "outputs": [
    {
     "name": "stdout",
     "output_type": "stream",
     "text": [
      "tensor(-0.3823)\n",
      "tensor(-0.4880)\n"
     ]
    }
   ],
   "source": [
    "pre_y = x*1.2 + 0.99\n",
    "da=torch.mean( ( pre_y - y)*x)\n",
    "print(da)\n",
    "db = torch.mean( (pre_y - y))\n",
    "print(db)"
   ]
  },
  {
   "cell_type": "code",
   "execution_count": 7,
   "metadata": {},
   "outputs": [
    {
     "name": "stdout",
     "output_type": "stream",
     "text": [
      "tensor(0.0253) tensor(0.0318) tensor(5.1976)\n",
      "tensor(1.3711) tensor(1.4072) tensor(0.0459)\n",
      "tensor(1.5826) tensor(1.2716) tensor(0.0203)\n",
      "tensor(1.7225) tensor(1.1806) tensor(0.0090)\n",
      "tensor(1.8155) tensor(1.1200) tensor(0.0040)\n",
      "tensor(1.8774) tensor(1.0798) tensor(0.0017)\n",
      "tensor(1.9185) tensor(1.0530) tensor(0.0008)\n",
      "tensor(1.9458) tensor(1.0353) tensor(0.0003)\n",
      "tensor(1.9640) tensor(1.0234) tensor(0.0002)\n",
      "tensor(1.9761) tensor(1.0156) tensor(0.0001)\n",
      "tensor(1.9841) tensor(1.0104) tensor(0.0000)\n",
      "tensor(1.9894) tensor(1.0069) tensor(0.0000)\n",
      "tensor(1.9930) tensor(1.0046) tensor(5.7562e-06)\n",
      "tensor(1.9953) tensor(1.0030) tensor(2.5449e-06)\n",
      "tensor(1.9969) tensor(1.0020) tensor(1.1259e-06)\n",
      "tensor(1.9979) tensor(1.0013) tensor(4.9894e-07)\n",
      "tensor(1.9986) tensor(1.0009) tensor(2.2194e-07)\n",
      "tensor(1.9991) tensor(1.0006) tensor(9.9335e-08)\n",
      "tensor(1.9994) tensor(1.0004) tensor(4.4876e-08)\n",
      "tensor(1.9996) tensor(1.0003) tensor(2.0412e-08)\n"
     ]
    }
   ],
   "source": [
    "#迭代，求a和b的值\n",
    "\n",
    "a=0.01\n",
    "b=0.01\n",
    "learning_rate = 0.01\n",
    "\n",
    "for i in range(10000):\n",
    "    pre_y = x*a + b\n",
    "    tmp_a = a - learning_rate*torch.mean( (pre_y - y)*x)\n",
    "    tmp_b = b - learning_rate*torch.mean( (pre_y - y))\n",
    "    a = tmp_a\n",
    "    b = tmp_b\n",
    "    if i%500 == 0:\n",
    "        cost = torch.nn.functional.mse_loss(y,pre_y) \n",
    "        print(a,b,cost)\n",
    "    "
   ]
  },
  {
   "cell_type": "markdown",
   "metadata": {},
   "source": [
    "### 4. 多特征的情况，特征和权重都用向量操作\n",
    "y = w1*x1 + w2*x2 + w3*x3 + ... + b\n",
    "\n",
    "y = X.WT + b\n",
    "\n",
    "y = X.Wt (x尾部增加一列1，把b放入W) #pytorch是这样的么？"
   ]
  },
  {
   "cell_type": "code",
   "execution_count": 8,
   "metadata": {},
   "outputs": [
    {
     "name": "stdout",
     "output_type": "stream",
     "text": [
      "tensor([[11.2189],\n",
      "        [12.0847],\n",
      "        [11.8360],\n",
      "        [11.8297],\n",
      "        [11.3446],\n",
      "        [11.2870],\n",
      "        [11.6242],\n",
      "        [12.0731],\n",
      "        [11.7695],\n",
      "        [11.9022]])\n",
      "tensor([[11.2189],\n",
      "        [12.0847],\n",
      "        [11.8360],\n",
      "        [11.8297],\n",
      "        [11.3446],\n",
      "        [11.2870],\n",
      "        [11.6242],\n",
      "        [12.0731],\n",
      "        [11.7695],\n",
      "        [11.9022]])\n"
     ]
    }
   ],
   "source": [
    "m = 10 #样本数量\n",
    "n = 5 # 特征数量\n",
    "b = 10 \n",
    "x = torch.rand(m,n)\n",
    "#print(x)\n",
    "w = torch.rand(1,n)\n",
    "#print(w)\n",
    "y = x.matmul(torch.t(w)) + b\n",
    "print(y)\n",
    "\n",
    "y = torch.mm(x,torch.t(w)) + b #torch.mm 等价 x.matmul\n",
    "print(y) "
   ]
  },
  {
   "cell_type": "code",
   "execution_count": 9,
   "metadata": {},
   "outputs": [
    {
     "name": "stdout",
     "output_type": "stream",
     "text": [
      "tensor([[0.8168, 0.3197, 0.2967, 0.0579, 0.2479, 1.0000],\n",
      "        [0.9049, 0.4754, 0.5885, 0.5183, 0.9407, 1.0000],\n",
      "        [0.7813, 0.1585, 0.4884, 0.7606, 0.4192, 1.0000],\n",
      "        [0.4551, 0.5130, 0.5467, 0.7839, 0.5705, 1.0000],\n",
      "        [0.4457, 0.0918, 0.2462, 0.8089, 0.2406, 1.0000],\n",
      "        [0.1712, 0.3619, 0.8802, 0.2749, 0.7154, 1.0000],\n",
      "        [0.6962, 0.1161, 0.9439, 0.1760, 0.9793, 1.0000],\n",
      "        [0.9989, 0.1604, 0.6464, 0.7280, 0.2005, 1.0000],\n",
      "        [0.9422, 0.2610, 0.7257, 0.2013, 0.6927, 1.0000],\n",
      "        [0.4168, 0.6678, 0.7353, 0.6170, 0.7851, 1.0000]])\n",
      "tensor([[10.]])\n",
      "tensor([[ 0.9170,  0.5936,  0.6385,  0.8452,  0.1689, 10.0000]])\n",
      "tensor([[11.2189],\n",
      "        [12.0847],\n",
      "        [11.8360],\n",
      "        [11.8297],\n",
      "        [11.3446],\n",
      "        [11.2870],\n",
      "        [11.6242],\n",
      "        [12.0731],\n",
      "        [11.7695],\n",
      "        [11.9022]])\n"
     ]
    }
   ],
   "source": [
    "one = torch.ones(m,1)\n",
    "# print(one)\n",
    "x1 = torch.cat([x,one],-1)\n",
    "print(x1) \n",
    "b1 = torch.tensor([[b]],dtype=torch.float)\n",
    "print(b1)\n",
    "w1 = torch.cat([w,b1],-1)\n",
    "print(w1)\n",
    "y1 = torch.mm(x1,torch.t(w1))\n",
    "print(y1)"
   ]
  },
  {
   "cell_type": "code",
   "execution_count": 10,
   "metadata": {},
   "outputs": [
    {
     "name": "stdout",
     "output_type": "stream",
     "text": [
      "tensor([2.5000, 3.5000, 4.5000]) tensor([2., 5.])\n",
      "tensor([[2.],\n",
      "        [5.]])\n",
      "tensor([[2.],\n",
      "        [5.]])\n"
     ]
    }
   ],
   "source": [
    "# 测试下torch.mean的用法\n",
    "test_mean = torch.tensor([[1,2,3],[4,5,6]],dtype=torch.float)\n",
    "m0 = torch.mean(test_mean,0)\n",
    "m1 = torch.mean(test_mean,1)#\n",
    "print(m0,m1)\n",
    "print(m1.view(-1,1))\n",
    "m2 = torch.mean(test_mean,1,keepdim=True)\n",
    "print(m2)"
   ]
  },
  {
   "cell_type": "code",
   "execution_count": 11,
   "metadata": {},
   "outputs": [
    {
     "name": "stdout",
     "output_type": "stream",
     "text": [
      "w1: tensor([[ 0.9170,  0.5936,  0.6385,  0.8452,  0.1689, 10.0000]])\n",
      "w_x: tensor([[0.3550, 0.2091, 0.7915, 0.3652, 0.7814, 0.7845]])\n",
      "tensor([[0.4183, 0.2387, 0.8490, 0.4125, 0.8358, 0.8795]]) tensor(90.2731)\n",
      "tensor([[2.6514, 1.1768, 2.0964, 2.4906, 1.0632, 6.3819]]) tensor(0.4001)\n",
      "tensor([[2.1531, 1.1432, 1.8145, 2.0063, 0.4938, 7.4868]]) tensor(0.1850)\n",
      "tensor([[1.7862, 1.0985, 1.6190, 1.6283, 0.2151, 8.2252]]) tensor(0.0897)\n",
      "tensor([[1.5334, 1.0422, 1.4544, 1.3731, 0.0681, 8.7310]]) tensor(0.0454)\n",
      "tensor([[ 1.3592,  0.9829,  1.3145,  1.2031, -0.0030,  9.0816]]) tensor(0.0241)\n",
      "tensor([[ 1.2381,  0.9260,  1.1965,  1.0898, -0.0295,  9.3272]]) tensor(0.0135)\n",
      "tensor([[ 1.1530,  0.8741,  1.0977,  1.0138, -0.0306,  9.5011]]) tensor(0.0078)\n",
      "tensor([[ 1.0925,  0.8282,  1.0155,  0.9626, -0.0182,  9.6257]]) tensor(0.0047)\n",
      "tensor([[1.0491, 0.7887, 0.9474, 0.9278, 0.0005, 9.7160]]) tensor(0.0029)\n",
      "tensor([[1.0175, 0.7550, 0.8913, 0.9041, 0.0214, 9.7823]]) tensor(0.0019)\n",
      "tensor([[0.9942, 0.7266, 0.8451, 0.8876, 0.0421, 9.8316]]) tensor(0.0012)\n",
      "tensor([[0.9769, 0.7030, 0.8072, 0.8762, 0.0613, 9.8687]]) tensor(0.0008)\n",
      "tensor([[0.9638, 0.6833, 0.7762, 0.8681, 0.0785, 9.8968]]) tensor(0.0005)\n",
      "tensor([[0.9538, 0.6670, 0.7508, 0.8623, 0.0935, 9.9185]]) tensor(0.0003)\n",
      "tensor([[0.9461, 0.6536, 0.7300, 0.8581, 0.1063, 9.9353]]) tensor(0.0002)\n",
      "tensor([[0.9402, 0.6426, 0.7130, 0.8551, 0.1172, 9.9483]]) tensor(0.0001)\n",
      "tensor([[0.9355, 0.6336, 0.6992, 0.8528, 0.1263, 9.9586]]) tensor(0.0001)\n"
     ]
    }
   ],
   "source": [
    "print('w1:',w1)\n",
    "\n",
    "w_x = torch.rand_like(w1)\n",
    "print('w_x:',w_x)\n",
    "\n",
    "learning_rate = 0.01\n",
    "for i in range(35000):\n",
    "    pre_y = torch.mm(x1,torch.t(w_x))\n",
    "#     print(pre_y)\n",
    "    \n",
    "    ld = (pre_y - y1)*x1\n",
    "#     print(ld)\n",
    "#     print(\"dim0:\",torch.mean(ld,0))\n",
    "#     print(\"dim1:\",torch.mean(ld,1))\n",
    "    w_x = w_x - learning_rate*torch.mean( ld ,0)  \n",
    "#     w_x = tmp_w  #\n",
    "    \n",
    "    if i%2000 == 0:\n",
    "        cost = torch.nn.functional.mse_loss(y1,pre_y) \n",
    "        print(w_x,cost)"
   ]
  }
 ],
 "metadata": {
  "kernelspec": {
   "display_name": "Python 3",
   "language": "python",
   "name": "python3"
  },
  "language_info": {
   "codemirror_mode": {
    "name": "ipython",
    "version": 3
   },
   "file_extension": ".py",
   "mimetype": "text/x-python",
   "name": "python",
   "nbconvert_exporter": "python",
   "pygments_lexer": "ipython3",
   "version": "3.6.5"
  }
 },
 "nbformat": 4,
 "nbformat_minor": 2
}

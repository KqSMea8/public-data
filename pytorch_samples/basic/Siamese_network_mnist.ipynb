{
 "cells": [
  {
   "cell_type": "code",
   "execution_count": 2,
   "metadata": {},
   "outputs": [],
   "source": [
    "import torch"
   ]
  },
  {
   "cell_type": "markdown",
   "metadata": {},
   "source": [
    "### 1. 什么是孪生网络\n",
    "https://zhuanlan.zhihu.com/p/35040994\n",
    "双塔结构，衡量两个输入的相似程度\n",
    "训练目标：让相同类别间的距离尽可能的小，让不同类别间的距离尽可能的大\n",
    "训练样本：x1, x2, y=1|0\n",
    "损失函数：Contrastive Loss\n",
    "    a. cosine距离（词汇级别），\n",
    "    b. exp function（句子级别、段落级别），\n",
    "    c. 欧式距离\n",
    "用途：\n",
    "    \n",
    "\n",
    "其他变种：\n",
    "Triplet network，三胞胎网络，输入是三个，一个正例+两个负例，或者一个负例+两个正例\n",
    "pseudo-siamese network，伪孪生神经网络\n",
    " \n",
    "\n",
    "### 2. pytorch实现\n",
    "https://hackernoon.com/one-shot-learning-with-siamese-networks-in-pytorch-8ddaab10340e\n",
    "https://hackernoon.com/facial-similarity-with-siamese-networks-in-pytorch-9642aa9db2f7\n",
    "SiameseNetwork #模型结构\n",
    "    forward_once(self, input)\n",
    "    forward(self, input1, input2) return output1,output2\n",
    "ContrastiveLoss  #对比损失函数，也是继承自torch.nn.Module\n",
    "    euclidean_distance = F.pairwise_distance(output1, output2) #欧式距离？（需要搞明白每种举例计算公式、直观演示）\n",
    "SiameseNetworkDataset\n",
    "    return img0,img1,torch.from_numpy(np.array([int(img1_tuple[1]!=img0_tuple[1])],dtype=np.float32)) # 1 or 0\n",
    "\n",
    " https://github.com/delijati/pytorch-siamese\n",
    "    dataset train=True|False\n",
    "     create_iterator() -> create_pairs() -> Dataset ?\n",
    "     ContrastiveLoss ?\n",
    "     计算 accuracy ？\n",
    "     \n",
    " https://github.com/harveyslash/Facial-Similarity-with-Siamese-Networks-in-Pytorch \n",
    "\n",
    "\n",
    "\n",
    " https://www.cnblogs.com/king-lps/p/8342452.html\n",
    " 每次的输入是一对图像+1个label，共3个值。\n",
    " 注意label=0或1（又称正负样本），表示输入的两张图片match（匹配、同一个人）或no-match（不匹配、非同一人）\n",
    "\n",
    " https://hackernoon.com/facial-similarity-with-siamese-networks-in-pytorch-9642aa9db2f7\n",
    " https://becominghuman.ai/siamese-networks-algorithm-applications-and-pytorch-implementation-4ffa3304c18\n"
   ]
  }
 ],
 "metadata": {
  "kernelspec": {
   "display_name": "Python 3",
   "language": "python",
   "name": "python3"
  },
  "language_info": {
   "codemirror_mode": {
    "name": "ipython",
    "version": 3
   },
   "file_extension": ".py",
   "mimetype": "text/x-python",
   "name": "python",
   "nbconvert_exporter": "python",
   "pygments_lexer": "ipython3",
   "version": "3.6.5"
  }
 },
 "nbformat": 4,
 "nbformat_minor": 2
}

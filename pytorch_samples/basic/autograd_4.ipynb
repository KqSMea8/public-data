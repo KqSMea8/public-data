{
 "cells": [
  {
   "cell_type": "code",
   "execution_count": 2,
   "metadata": {},
   "outputs": [],
   "source": [
    "import torch"
   ]
  },
  {
   "cell_type": "code",
   "execution_count": 34,
   "metadata": {},
   "outputs": [
    {
     "name": "stdout",
     "output_type": "stream",
     "text": [
      "tensor([[1., 1.],\n",
      "        [1., 1.]])\n",
      "tensor([[1., 1.],\n",
      "        [1., 1.]], requires_grad=True)\n"
     ]
    }
   ],
   "source": [
    "x = torch.ones(2,2)\n",
    "print(x)\n",
    "\n",
    "x = torch.ones(2,2,requires_grad=True)\n",
    "print(x)"
   ]
  },
  {
   "cell_type": "code",
   "execution_count": 36,
   "metadata": {},
   "outputs": [
    {
     "name": "stdout",
     "output_type": "stream",
     "text": [
      "tensor([[3., 3.],\n",
      "        [3., 3.]], grad_fn=<AddBackward>)\n",
      "<AddBackward object at 0x110886198>\n",
      "tensor([[27., 27.],\n",
      "        [27., 27.]], grad_fn=<MulBackward>)\n",
      "tensor(27., grad_fn=<MeanBackward1>)\n",
      "tensor([[9., 9.],\n",
      "        [9., 9.]])\n"
     ]
    }
   ],
   "source": [
    "y = x + 2\n",
    "print(y)\n",
    "print(y.grad_fn)\n",
    "\n",
    "z = y * y * 3\n",
    "out = z.mean()  # out = 3( (x+2) ** 2) -> (3/2)(x+2)\n",
    "print(z)\n",
    "print(out)\n",
    "\n",
    "out.backward()\n",
    "print(x.grad)\n",
    "\n",
    "# gradients = torch.rand(2,2, dtype=torch.float)\n",
    "# print(gradients)\n",
    "# y.backward(gradients)\n",
    "# print(x.grad)"
   ]
  },
  {
   "cell_type": "code",
   "execution_count": 51,
   "metadata": {},
   "outputs": [
    {
     "name": "stdout",
     "output_type": "stream",
     "text": [
      "tensor(10.)\n"
     ]
    }
   ],
   "source": [
    "x = torch.tensor(5, dtype=torch.float, requires_grad=True)\n",
    "y = x*x + 3  # dx = 2x\n",
    "y.backward(  ) # torch.tensor(2, dtype=torch.float)\n",
    "print(x.grad) #what fuck ?"
   ]
  },
  {
   "cell_type": "code",
   "execution_count": 57,
   "metadata": {},
   "outputs": [
    {
     "name": "stdout",
     "output_type": "stream",
     "text": [
      "tensor(1408.)\n",
      "tensor(4224.)\n",
      "tensor(3872.)\n"
     ]
    }
   ],
   "source": [
    "x1 =  torch.tensor(2, dtype=torch.float, requires_grad=True)\n",
    "x2 =  torch.tensor(3, dtype=torch.float, requires_grad=True)\n",
    "x3 =  torch.tensor(4, dtype=torch.float, requires_grad=True)\n",
    "y = (2*x1+6*x2)*x3\n",
    "# y.backward()\n",
    "# print(x1.grad)\n",
    "# print(x2.grad)\n",
    "# print(x3.grad)\n",
    "\n",
    "z = y*y\n",
    "z.backward()\n",
    "print(x1.grad)\n",
    "print(x2.grad)\n",
    "print(x3.grad) #what fuck ?"
   ]
  },
  {
   "cell_type": "code",
   "execution_count": null,
   "metadata": {},
   "outputs": [],
   "source": []
  }
 ],
 "metadata": {
  "kernelspec": {
   "display_name": "Python 3",
   "language": "python",
   "name": "python3"
  },
  "language_info": {
   "codemirror_mode": {
    "name": "ipython",
    "version": 3
   },
   "file_extension": ".py",
   "mimetype": "text/x-python",
   "name": "python",
   "nbconvert_exporter": "python",
   "pygments_lexer": "ipython3",
   "version": "3.6.5"
  }
 },
 "nbformat": 4,
 "nbformat_minor": 2
}

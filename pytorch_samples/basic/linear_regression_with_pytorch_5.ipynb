{
 "cells": [
  {
   "cell_type": "code",
   "execution_count": 1,
   "metadata": {},
   "outputs": [],
   "source": [
    "import torch\n",
    "import torch.nn as nn\n",
    "import torch.nn.functional as F"
   ]
  },
  {
   "cell_type": "code",
   "execution_count": 2,
   "metadata": {},
   "outputs": [
    {
     "name": "stdout",
     "output_type": "stream",
     "text": [
      "tensor([[0.3085, 0.4528, 0.3659, 0.0604, 0.3754],\n",
      "        [0.8525, 0.7049, 0.9580, 0.7089, 0.2885],\n",
      "        [0.9017, 0.6854, 0.2872, 0.9544, 0.2300],\n",
      "        [0.1916, 0.7161, 0.2857, 0.1707, 0.1594],\n",
      "        [0.1261, 0.6774, 0.3839, 0.1917, 0.6764],\n",
      "        [0.7518, 0.9349, 0.7085, 0.8655, 0.8291],\n",
      "        [0.9784, 0.8888, 0.7097, 0.1263, 0.0015],\n",
      "        [0.3068, 0.2347, 0.9652, 0.8766, 0.5670],\n",
      "        [0.3057, 0.4489, 0.7001, 0.7107, 0.8362],\n",
      "        [0.7403, 0.0356, 0.7231, 0.0574, 0.8550]])\n",
      "tensor([[10.4854],\n",
      "        [11.2441],\n",
      "        [11.3696],\n",
      "        [10.4968],\n",
      "        [10.7377],\n",
      "        [11.6413],\n",
      "        [10.7263],\n",
      "        [11.1964],\n",
      "        [11.2380],\n",
      "        [10.7662]])\n"
     ]
    }
   ],
   "source": [
    "#生成样本数据\n",
    "\n",
    "m = 10 #样本数量\n",
    "n = 5 # 特征数量\n",
    "b = 10 \n",
    "\n",
    "x = torch.rand(m,n)\n",
    "#print(x)\n",
    "w = torch.rand(1,n)\n",
    "\n",
    "one = torch.ones(m,1)\n",
    "# print(one)\n",
    "x1 = torch.cat([x,one],-1)\n",
    "# print(x1) \n",
    "b1 = torch.tensor([[b]],dtype=torch.float)\n",
    "# print(b1)\n",
    "w1 = torch.cat([w,b1],-1)\n",
    "# print(w1)\n",
    "y1 = torch.mm(x1,torch.t(w1))\n",
    "print(x)\n",
    "print(y1)"
   ]
  },
  {
   "cell_type": "code",
   "execution_count": 3,
   "metadata": {},
   "outputs": [],
   "source": [
    "class LinearRegModule(nn.Module):\n",
    "    def __init__(self):\n",
    "        super(LinearRegModule,self).__init__()  #LinearRegModule\n",
    "        self.linear = nn.Linear(5,1,bias=True)  \n",
    "        \n",
    "    def forward(self,x):\n",
    "        y_pred = self.linear(x) \n",
    "        return y_pred"
   ]
  },
  {
   "cell_type": "code",
   "execution_count": 4,
   "metadata": {},
   "outputs": [],
   "source": [
    "# 全连接 - ReLU - 全连接 \n",
    "class LinearRegModuleT1(nn.Module):\n",
    "    def __init__(self):\n",
    "        super(LinearRegModuleT1,self).__init__()  #LinearRegModule\n",
    "        self.linear = nn.Linear(5,2) #？\n",
    "        self.linear1 = nn.Linear(2,1) #？\n",
    "        \n",
    "    def forward(self,x):\n",
    "#         y_pred = self.linear(x)\n",
    "        x = F.relu(self.linear(x))\n",
    "        y_pred = self.linear1(x)\n",
    "        return y_pred"
   ]
  },
  {
   "cell_type": "code",
   "execution_count": 5,
   "metadata": {},
   "outputs": [
    {
     "name": "stdout",
     "output_type": "stream",
     "text": [
      "tensor(112.6982, grad_fn=<MseLossBackward>)\n",
      "tensor(0.0005, grad_fn=<MseLossBackward>)\n",
      "tensor(2.6484e-07, grad_fn=<MseLossBackward>)\n",
      "tensor(2.2192e-10, grad_fn=<MseLossBackward>)\n",
      "tensor(8.8676e-11, grad_fn=<MseLossBackward>)\n",
      "tensor(8.7311e-11, grad_fn=<MseLossBackward>)\n",
      "tensor(8.8676e-11, grad_fn=<MseLossBackward>)\n",
      "tensor(8.8676e-11, grad_fn=<MseLossBackward>)\n",
      "tensor(8.7311e-11, grad_fn=<MseLossBackward>)\n",
      "tensor(8.8676e-11, grad_fn=<MseLossBackward>)\n",
      "tensor(8.8676e-11, grad_fn=<MseLossBackward>)\n",
      "tensor(8.7311e-11, grad_fn=<MseLossBackward>)\n",
      "tensor(8.8676e-11, grad_fn=<MseLossBackward>)\n",
      "tensor(8.8676e-11, grad_fn=<MseLossBackward>)\n",
      "tensor(8.7311e-11, grad_fn=<MseLossBackward>)\n",
      "tensor(8.8676e-11, grad_fn=<MseLossBackward>)\n",
      "tensor(8.8676e-11, grad_fn=<MseLossBackward>)\n",
      "tensor(8.7311e-11, grad_fn=<MseLossBackward>)\n",
      "tensor(8.8676e-11, grad_fn=<MseLossBackward>)\n",
      "tensor(8.8676e-11, grad_fn=<MseLossBackward>)\n",
      "tensor(8.7311e-11, grad_fn=<MseLossBackward>)\n",
      "tensor(8.8676e-11, grad_fn=<MseLossBackward>)\n",
      "tensor(8.8676e-11, grad_fn=<MseLossBackward>)\n",
      "tensor(8.7311e-11, grad_fn=<MseLossBackward>)\n",
      "tensor(8.8676e-11, grad_fn=<MseLossBackward>)\n",
      "tensor(8.8676e-11, grad_fn=<MseLossBackward>)\n",
      "tensor(8.7311e-11, grad_fn=<MseLossBackward>)\n",
      "tensor(8.8676e-11, grad_fn=<MseLossBackward>)\n",
      "tensor(8.8676e-11, grad_fn=<MseLossBackward>)\n",
      "tensor(8.7311e-11, grad_fn=<MseLossBackward>)\n",
      "tensor(8.8676e-11, grad_fn=<MseLossBackward>)\n",
      "tensor(8.8676e-11, grad_fn=<MseLossBackward>)\n",
      "tensor(8.7311e-11, grad_fn=<MseLossBackward>)\n",
      "tensor(8.8676e-11, grad_fn=<MseLossBackward>)\n",
      "tensor(8.8676e-11, grad_fn=<MseLossBackward>)\n",
      "tensor(8.7311e-11, grad_fn=<MseLossBackward>)\n",
      "tensor(8.8676e-11, grad_fn=<MseLossBackward>)\n",
      "tensor(8.8676e-11, grad_fn=<MseLossBackward>)\n",
      "tensor(8.7311e-11, grad_fn=<MseLossBackward>)\n",
      "tensor(8.8676e-11, grad_fn=<MseLossBackward>)\n",
      "tensor(8.8676e-11, grad_fn=<MseLossBackward>)\n",
      "tensor(8.7311e-11, grad_fn=<MseLossBackward>)\n",
      "tensor(8.8676e-11, grad_fn=<MseLossBackward>)\n",
      "tensor(8.8676e-11, grad_fn=<MseLossBackward>)\n",
      "tensor(8.7311e-11, grad_fn=<MseLossBackward>)\n",
      "tensor(8.8676e-11, grad_fn=<MseLossBackward>)\n",
      "tensor(8.8676e-11, grad_fn=<MseLossBackward>)\n",
      "tensor(8.7311e-11, grad_fn=<MseLossBackward>)\n",
      "tensor(8.8676e-11, grad_fn=<MseLossBackward>)\n",
      "tensor(8.8676e-11, grad_fn=<MseLossBackward>)\n",
      "[Parameter containing:\n",
      "tensor([[-0.1802,  0.1299,  0.0882,  0.4062, -0.4327],\n",
      "        [ 0.1206,  0.1027,  0.0263,  0.2837,  0.1758]], requires_grad=True), Parameter containing:\n",
      "tensor([-0.2453,  2.7677], requires_grad=True), Parameter containing:\n",
      "tensor([[0.2145, 2.7510]], requires_grad=True), Parameter containing:\n",
      "tensor([2.3861], requires_grad=True)]\n",
      "tensor([[0.3317, 0.2825, 0.0724, 0.7806, 0.4836]])\n"
     ]
    }
   ],
   "source": [
    "# model = LinearRegModule()\n",
    "model = LinearRegModuleT1()\n",
    "\n",
    "criterion = torch.nn.MSELoss()\n",
    "optimizer = torch.optim.SGD(model.parameters(),lr=0.01)\n",
    "\n",
    "for epoch in range(50000):\n",
    "    y_pred = model(x)\n",
    "    loss = criterion(y_pred,y1)\n",
    "    \n",
    "    optimizer.zero_grad()\n",
    "    loss.backward()\n",
    "    optimizer.step() \n",
    "    \n",
    "    if epoch%1000==0:\n",
    "        print(loss)\n",
    "\n",
    "params = list(model.parameters())\n",
    "print(params)\n",
    "print(w)"
   ]
  },
  {
   "cell_type": "code",
   "execution_count": null,
   "metadata": {},
   "outputs": [],
   "source": []
  }
 ],
 "metadata": {
  "kernelspec": {
   "display_name": "Python 3",
   "language": "python",
   "name": "python3"
  },
  "language_info": {
   "codemirror_mode": {
    "name": "ipython",
    "version": 3
   },
   "file_extension": ".py",
   "mimetype": "text/x-python",
   "name": "python",
   "nbconvert_exporter": "python",
   "pygments_lexer": "ipython3",
   "version": "3.6.5"
  }
 },
 "nbformat": 4,
 "nbformat_minor": 2
}

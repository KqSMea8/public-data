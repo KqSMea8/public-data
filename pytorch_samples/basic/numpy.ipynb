{
 "cells": [
  {
   "cell_type": "code",
   "execution_count": 2,
   "metadata": {},
   "outputs": [],
   "source": [
    "import numpy as np\n",
    "\n",
    "# https://pytorch.org/tutorials/beginner/pytorch_with_examples.html"
   ]
  },
  {
   "cell_type": "code",
   "execution_count": 3,
   "metadata": {},
   "outputs": [],
   "source": [
    "# numpy    \n",
    "# np.random.randn\n",
    "# x.dot(w1)\n",
    "# np.maximum(h, 0)\n",
    "# np.square(y_pred - y).sum()\n",
    "# h_relu.T.dot(grad_y_pred)\n",
    "# grad_h_relu.copy()"
   ]
  },
  {
   "cell_type": "code",
   "execution_count": null,
   "metadata": {},
   "outputs": [],
   "source": [
    "#torch\n",
    "# x.mm(w1)\n",
    "# h.clamp(min=0)\n",
    "# (y_pred - y).pow(2).sum().item()\n",
    "# h_relu.t().mm(grad_y_pred)\n",
    "# grad_h_relu.clone() \n",
    "# learning_rate = 1e-6 \n",
    "# x.mm(w1).clamp(min=0).mm(w2)\n",
    "# w1.grad.zero_() \n",
    "# torch.autograd.Function\n",
    "# relu = MyReLU.apply\n",
    "# torch.nn.Sequential\n",
    "\n",
    "# for param in model.parameters():\n",
    "#     param -= learning_rate * param.grad "
   ]
  }
 ],
 "metadata": {
  "kernelspec": {
   "display_name": "Python 3",
   "language": "python",
   "name": "python3"
  },
  "language_info": {
   "codemirror_mode": {
    "name": "ipython",
    "version": 3
   },
   "file_extension": ".py",
   "mimetype": "text/x-python",
   "name": "python",
   "nbconvert_exporter": "python",
   "pygments_lexer": "ipython3",
   "version": "3.6.5"
  }
 },
 "nbformat": 4,
 "nbformat_minor": 2
}
